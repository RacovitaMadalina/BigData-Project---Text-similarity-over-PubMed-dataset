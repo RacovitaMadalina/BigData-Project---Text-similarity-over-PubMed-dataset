{
 "cells": [
  {
   "cell_type": "markdown",
   "metadata": {
    "toc": true
   },
   "source": [
    "<h1>Data parsing<span class=\"tocSkip\"></span></h1>\n",
    "<div class=\"toc\"><ul class=\"toc-item\"><li><span><a href=\"#Import-dependencies\" data-toc-modified-id=\"Import-dependencies-1\">Import dependencies</a></span></li><li><span><a href=\"#Load-data\" data-toc-modified-id=\"Load-data-2\">Load data</a></span></li><li><span><a href=\"#Data-exploration\" data-toc-modified-id=\"Data-exploration-3\">Data exploration</a></span><ul class=\"toc-item\"><li><span><a href=\"#Get-a-list-of-standalone-paragraphs-from-each-article's-body\" data-toc-modified-id=\"Get-a-list-of-standalone-paragraphs-from-each-article's-body-3.1\">Get a list of standalone paragraphs from each article's body</a></span></li><li><span><a href=\"#Get-a-list-of-sections-(in-each-section-are-one-or-more-paragraphs)--from-each-article's-body\" data-toc-modified-id=\"Get-a-list-of-sections-(in-each-section-are-one-or-more-paragraphs)--from-each-article's-body-3.2\">Get a list of sections (in each section are one or more paragraphs)  from each article's body</a></span></li><li><span><a href=\"#Get-article's-body\" data-toc-modified-id=\"Get-article's-body-3.3\">Get article's body</a></span></li><li><span><a href=\"#Get-article's-abstract\" data-toc-modified-id=\"Get-article's-abstract-3.4\">Get article's abstract</a></span></li><li><span><a href=\"#Get-article's-categories\" data-toc-modified-id=\"Get-article's-categories-3.5\">Get article's categories</a></span></li><li><span><a href=\"#Get-article's-title\" data-toc-modified-id=\"Get-article's-title-3.6\">Get article's title</a></span></li><li><span><a href=\"#Get-final-dataframe\" data-toc-modified-id=\"Get-final-dataframe-3.7\">Get final dataframe</a></span></li></ul></li></ul></div>"
   ]
  },
  {
   "cell_type": "markdown",
   "metadata": {},
   "source": [
    "## Import dependencies"
   ]
  },
  {
   "cell_type": "code",
   "execution_count": 1,
   "metadata": {},
   "outputs": [],
   "source": [
    "import os, shutil\n",
    "import warnings\n",
    "import random\n",
    "warnings.simplefilter(\"ignore\")\n",
    "\n",
    "from shutil import copyfile\n",
    "from distutils.dir_util import copy_tree"
   ]
  },
  {
   "cell_type": "markdown",
   "metadata": {},
   "source": [
    "## Load data"
   ]
  },
  {
   "cell_type": "code",
   "execution_count": 2,
   "metadata": {},
   "outputs": [],
   "source": [
    "input_dir = \"../datasets/2016_testing_df/\"\n",
    "\n",
    "df = sqlContext.read.format('com.databricks.spark.xml').option(\"rowTag\", \"record\")\\\n",
    "    .load(input_dir)"
   ]
  },
  {
   "cell_type": "code",
   "execution_count": 3,
   "metadata": {},
   "outputs": [
    {
     "data": {
      "text/plain": [
       "175"
      ]
     },
     "execution_count": 3,
     "metadata": {},
     "output_type": "execute_result"
    }
   ],
   "source": [
    "df.rdd.count()"
   ]
  },
  {
   "cell_type": "markdown",
   "metadata": {},
   "source": [
    "## Data exploration"
   ]
  },
  {
   "cell_type": "markdown",
   "metadata": {},
   "source": [
    "### Get a list of standalone paragraphs from each article's body"
   ]
  },
  {
   "cell_type": "markdown",
   "metadata": {},
   "source": [
    "The paragraphs can be found: in **body/p** or simply in **p** tag from the root. But the results are the same."
   ]
  },
  {
   "cell_type": "code",
   "execution_count": 4,
   "metadata": {},
   "outputs": [
    {
     "data": {
      "text/plain": [
       "[(0,\n",
       "  ['Recent work has shown that some TOR-dependent processes are regulated through control of mRNA stability. Although mechanisms of its regulation remain poorly understood, steps leading to deadenylation-dependent mRNA degradation in eukaryotes are well known ']),\n",
       " (1,\n",
       "  ['Prior to 2006, the 2nd Edition of the Bayley (Bayley-II) Psychomotor Developmental Index (PDI)']),\n",
       " (2,\n",
       "  ['Policies related to alcohol, as well as other substances, both in the US and more broadly, remain an open area of debate and controversy. Most recently, the Amethyst Initiative (']),\n",
       " (3,\n",
       "  ['Malaria exacts a deadly toll on human populations worldwide. A new era in the fight against the disease has seen multiple malaria vaccines entering or completing advanced clinical study']),\n",
       " (4, ['Genetic crosses in the human malaria parasite ']),\n",
       " (5,\n",
       "  ['One class of drugs that has promise for the treatment of relapsed CLL are the cyclin dependent kinase (CDK) inhibitors. Flavopiridol is the first member of this class to be extensively tested based upon pre-clinical work by several groups(']),\n",
       " (6, ['IL18 polarizes Th1 cells']),\n",
       " (7,\n",
       "  ['During maturation or ripening, microbiological and biochemical changes occur; bacteria and enzymes act on the fat, protein and carbohydrate in the cheese to produce the characteristic body, texture and flavour of the variety. The biochemical changes during ripening may be grouped into primary (proteolysis, lipolysis and metabolism of residual lactose, lactate and citrate) or secondary (metabolism of fatty acids and amino acids) events. It is these secondary reactions that result in the production of volatile flavour compounds that play a significant role in the flavour of cheese (']),\n",
       " (8,\n",
       "  ['Many viruses such as hepatitis B and C viruses (HBV, HCV), human immunodeficiency virus (HIV), influenza virus, rotavirus, and poliovirus use replication in epithelial cells to establish infections of multicellular hosts but the molecular networks protecting barrier surfaces against viral infections are incompletely understood']),\n",
       " (9,\n",
       "  ['Addiction is a life-long affliction manifested by episodes of relapse despite prolonged abstinence. It is thought that the neuroadaptations that result from drug exposure represent a neurobiological mechanism for long-term behavioral changes, highlighting the need to more fully understand the long-term molecular changes mediating drug craving and relapse'])]"
      ]
     },
     "execution_count": 4,
     "metadata": {},
     "output_type": "execute_result"
    }
   ],
   "source": [
    "def parse_paragraphs_list(list_of_paragraphs):\n",
    "    list_of_paragraphs_to_ret = []\n",
    "    if list_of_paragraphs != None:\n",
    "        for paragraph in list_of_paragraphs:\n",
    "            if paragraph != None:\n",
    "                if type(paragraph) == str:\n",
    "                    list_of_paragraphs_to_ret.append(paragraph)\n",
    "                else:\n",
    "                    if paragraph._VALUE != None:\n",
    "                        list_of_paragraphs_to_ret.append(paragraph._VALUE)\n",
    "    return list_of_paragraphs_to_ret\n",
    "\n",
    "def get_paragraphs_list_from_body(input_dir):\n",
    "    df =   spark.read \\\n",
    "                .format('com.databricks.spark.xml') \\\n",
    "                .options(rowTag='record')\\\n",
    "                .options(rowTag='body')\\\n",
    "                .load(input_dir)\n",
    "    return  df.select(\"p\")\\\n",
    "              .rdd\\\n",
    "              .map(lambda row: parse_paragraphs_list(row['p']))\\\n",
    "              .zipWithIndex()\\\n",
    "              .map(lambda record: (record[1], record[0]))\\\n",
    "\n",
    "\n",
    "get_paragraphs_list_from_body(input_dir).take(10)"
   ]
  },
  {
   "cell_type": "markdown",
   "metadata": {},
   "source": [
    "### Get a list of sections (in each section are one or more paragraphs)  from each article's body"
   ]
  },
  {
   "cell_type": "markdown",
   "metadata": {},
   "source": [
    "The sections are the same as in **metadata/article/body**"
   ]
  },
  {
   "cell_type": "code",
   "execution_count": 5,
   "metadata": {
    "scrolled": false
   },
   "outputs": [
    {
     "data": {
      "text/plain": [
       "[(0, [['Autophagy is a conserved essential eukaryotic catabolic process ']]),\n",
       " (1,\n",
       "  [['Motor function is an important component of neurodevelopmental assessment and is included in assessment tools such as the Bayley Scales of Infant (and Toddler) Development (Bayley).']]),\n",
       " (2,\n",
       "  [['Alcohol and marijuana are among the most commonly used drugs by adolescents and young adults in the United States (US) (']]),\n",
       " (3,\n",
       "  [['The tertiary structure of the AnAPN1 ectodomain (residues 57-942) exhibited the classical four-domain assembly of M1-family metallopeptidases, designated domains I-IV (']]),\n",
       " (4,\n",
       "  [['Non-blood fed adult female mosquitoes three to seven days post-emergence were fed on mixed gametocyte cultures. Gametocyte cultures were quickly spun down and the pelleted infected erythrocytes diluted to a 40% hematocrit with fresh A+ human serum and O+ erythrocytes. Mosquitoes were allowed to feed through Parafilm for up to 20 minutes. Following blood feeding, mosquitoes were maintained for up to 19 days at 27 °C, 75% humidity and provided with 8% dextrose solution in PABA water. Infection prevalence was checked at days seven to ten by examining dissected midguts under light microscopy for the presence of oocysts with salivary gland dissections performed at days 14 – 19. In order to minimize the deleterious effects of salivary gland extract injection into the mice, average sporozoite numbers per mosquito were >30,000. Additionally, salivary gland dissection was performed to minimize the isolation of extraneous mosquito material.',\n",
       "    'Mice were injected intravenously into the tail vein with between approximately 4.0 and 6.2 million ']]),\n",
       " (5,\n",
       "  [['CLL represents the most prevalent type of adult leukemia and is currently incurable with available therapies. The introduction of fludarabine (F)(']]),\n",
       " (6, []),\n",
       " (7,\n",
       "  [['The flavour of Cheddar cheese flavour is composed of a complex mixture of at least 180 compounds, including alcohols, aldehydes, ketones, esters, lactones, sulphides, free fatty acids and pyrazines (']]),\n",
       " (8,\n",
       "  [['Despite effective virus replication and diarrhea in all mice tested, histological analysis of small intestinal tissues from infected wildtype mice showed only moderate damage of the epithelial barrier in the distal small intestine (']]),\n",
       " (9,\n",
       "  [['Twenty-four standard experimental test chambers (MED Associates, Inc., St. Albans, VT) were used. The intelligence panel had two snout-poke holes located on one wall of the test chamber. Two stimulus lights were mounted above the snout-poke holes, and a house light was mounted in the middle of the back wall of the test chamber. Snout pokes were monitored with infrared detectors. All test chambers were housed in isolation, which mitigates all external light sources and sounds, including the motors for syringe infusion pumps that were located outside of the sound-attenuating chamber. Test chambers were computer controlled through a MED Associates interface with MED-PC. The temporal resolution of the system is 0.01 s.'],\n",
       "   ['Cocaine hydrochloride, gifted by NIDA, was dissolved in sterile 0.9% saline. Cocaine solutions (acquisition: 4.5 mg/mL; dose-response testing: 2.0 mg/mL) were prepared on a weekly basis. Cocaine was delivered via a syringe pump, and pump durations/injection volumes were adjusted according to body weight on a daily basis in order to deliver the correct dose of drug (acquisition: 1.0 mg/kg/infusion; dose-response testing: 0.03, 0.10, 0.30, 1.00 mg/kg/inf). Systemic injections used in tests of reinstatement were administered at a constant injection volume of 1.0 mL/kg.'],\n",
       "   ['Rats were implanted with chronic indwelling jugular catheters. The details of this procedure have been described previously']])]"
      ]
     },
     "execution_count": 5,
     "metadata": {},
     "output_type": "execute_result"
    }
   ],
   "source": [
    "def parse_sections_list(list_of_sections):\n",
    "    if list_of_sections != None:\n",
    "        list_of_sections = [parse_paragraphs_list(section.p) for section in list_of_sections if section.p != None]\n",
    "    else:\n",
    "        list_of_sections = []\n",
    "    return list_of_sections\n",
    "\n",
    "def get_sections_list(input_dir):\n",
    "    df =   spark.read \\\n",
    "                .format('com.databricks.spark.xml') \\\n",
    "                .options(rowTag='record')\\\n",
    "                .options(rowTag='body')\\\n",
    "                .load(input_dir)\n",
    "    return  df.select(\"sec\")\\\n",
    "              .rdd\\\n",
    "              .map(lambda row: parse_sections_list(row['sec']), )\\\n",
    "              .zipWithIndex()\\\n",
    "              .map(lambda record: (record[1], record[0]))\\\n",
    "\n",
    "get_sections_list(input_dir).take(10)"
   ]
  },
  {
   "cell_type": "markdown",
   "metadata": {},
   "source": [
    "### Get article's body"
   ]
  },
  {
   "cell_type": "markdown",
   "metadata": {},
   "source": [
    "The body of the article is going to be build in the following manner:\n",
    "-  we will concatenate each standalone paragraph (1)\n",
    "-  we will concatenate each paragraph from a section\n",
    "-  we will concatenate each section (3)\n",
    "-  finally, we will concatenate the the results from (1) and (3)"
   ]
  },
  {
   "cell_type": "code",
   "execution_count": 6,
   "metadata": {},
   "outputs": [],
   "source": [
    "def build_body(row_sec, row_p):\n",
    "    concat_parsed_sections = ' '.join([' '.join(section) for section in parse_sections_list(row_sec)])\n",
    "    concat_standalone_paragraphs = ' '.join(parse_paragraphs_list(row_p))\n",
    "    print(concat_parsed_sections, concat_standalone_paragraphs)\n",
    "    return concat_standalone_paragraphs + \" \" + concat_parsed_sections"
   ]
  },
  {
   "cell_type": "code",
   "execution_count": 7,
   "metadata": {
    "scrolled": false
   },
   "outputs": [
    {
     "data": {
      "text/plain": [
       "[(0,\n",
       "  'Recent work has shown that some TOR-dependent processes are regulated through control of mRNA stability. Although mechanisms of its regulation remain poorly understood, steps leading to deadenylation-dependent mRNA degradation in eukaryotes are well known  Autophagy is a conserved essential eukaryotic catabolic process '),\n",
       " (1,\n",
       "  'Prior to 2006, the 2nd Edition of the Bayley (Bayley-II) Psychomotor Developmental Index (PDI) Motor function is an important component of neurodevelopmental assessment and is included in assessment tools such as the Bayley Scales of Infant (and Toddler) Development (Bayley).'),\n",
       " (2,\n",
       "  'Policies related to alcohol, as well as other substances, both in the US and more broadly, remain an open area of debate and controversy. Most recently, the Amethyst Initiative ( Alcohol and marijuana are among the most commonly used drugs by adolescents and young adults in the United States (US) ('),\n",
       " (3,\n",
       "  'Malaria exacts a deadly toll on human populations worldwide. A new era in the fight against the disease has seen multiple malaria vaccines entering or completing advanced clinical study '),\n",
       " (4, 'Genetic crosses in the human malaria parasite  ')]"
      ]
     },
     "execution_count": 7,
     "metadata": {},
     "output_type": "execute_result"
    }
   ],
   "source": [
    "def get_bodys_list(input_dir):\n",
    "    df =   spark.read \\\n",
    "                .format('com.databricks.spark.xml') \\\n",
    "                .options(rowTag='record')\\\n",
    "                .options(rowTag='body')\\\n",
    "                .load(input_dir)\n",
    "    return  df.select(\"sec\", \"p\")\\\n",
    "              .rdd\\\n",
    "              .map(lambda row: build_body(row['sec'], row[\"p\"]))\\\n",
    "              .zipWithIndex()\\\n",
    "              .map(lambda record: (record[1], record[0]))\n",
    "\n",
    "get_bodys_list(input_dir).take(5)"
   ]
  },
  {
   "cell_type": "markdown",
   "metadata": {},
   "source": [
    "### Get article's abstract\n",
    "\n",
    "The abstract of the article is going to be built the same as the body."
   ]
  },
  {
   "cell_type": "code",
   "execution_count": 8,
   "metadata": {
    "scrolled": false
   },
   "outputs": [
    {
     "data": {
      "text/plain": [
       "[(0,\n",
       "  'Autophagy is an essential eukaryotic pathway requiring tight regulation to maintain homeostasis and preclude disease. Using yeast and mammalian cells, we report a conserved mechanism of autophagy regulation by RNA helicase RCK family members in association with the decapping enzyme Dcp2. Under nutrient-replete conditions, Dcp2 undergoes TOR-dependent phosphorylation and associates with RCK members to form a complex with autophagy-related ( '),\n",
       " (1,\n",
       "  ' To determine whether a Bayley-III Motor Composite score of 85 may overestimate moderate-severe motor impairment by analyzing Bayley-III motor components and developing cut-point scores for each. Retrospective study of 1183 children born <27 weeks gestation at NICHD Neonatal Research Network centers and evaluated at 18-22 months corrected age. Gross Motor Function Classification System determined gross motor impairment. Statistical analyses included linear and logistic regression and sensitivity/specificity. Bayley-III Motor Composite scores were strong indicators of gross/fine motor impairment. A Motor Composite cut-point of 73 markedly improved specificity for identifying gross and/or fine motor impairment (94% compared with a specificity of 76% for the proposed new cut point of 85). A Fine Motor Scaled Score <3 differentiated mild from moderate-severe fine motor impairment. This study indicates that a Bayley-III Motor Composite Score of 85 may overestimate impairment. Further studies are needed employing term controls and longer follow-up.'),\n",
       " (2,\n",
       "  ' Alcohol and marijuana are among the most commonly used drugs by adolescents and young adults. The question of whether these two drugs are substitutes or complements has important implications for public policy and prevention strategies, especially as laws regarding the use of marijuana are rapidly changing. Data were drawn from fatally injured drivers aged 16 to 25 who died within 1 h of the crash in nine states with high rates of toxicology testing based from 1999 to 2011 on the Fatality Analysis Reporting System (N = 7,191). Drug tests were performed using chromatography and radioimmunoassay techniques based on blood and/or urine specimens. Relative risk regression and Joinpoint permutation analysis were used. Overall, 50.5% of the drivers studied tested positive for alcohol or marijuana. Univariable relative risk modeling revealed that reaching the minimum legal drinking age was associated with a 14% increased risk of alcohol use (RR = 1.14, 95% CI: 1.02 to 1.28), a 24% decreased risk of marijuana use (RR = 0.76, 95% CI: 0.53 to 1.10), and a 22% increased risk of alcohol plus marijuana use (RR=1.22, 95% CI: 0.90 to 1.66). Joinpoint permutation analysis indicated that the prevalence of alcohol use by age is best described by two slopes, with a change at age 21. There was limited evidence for a change at age 21 for marijuana use. These results suggest that among adolescents and young adults, increases in alcohol availability after reaching the MLDA have marginal effect on marijuana use.'),\n",
       " (3,\n",
       "  'Mosquito-based malaria transmission-blocking vaccines (mTBVs) target midgut-surface antigens of the  '),\n",
       " (4,\n",
       "  'Genetic crosses of phenotypically distinct strains of the human malaria parasite  ')]"
      ]
     },
     "execution_count": 8,
     "metadata": {},
     "output_type": "execute_result"
    }
   ],
   "source": [
    "def get_abstract_list(input_dir):\n",
    "    df =   spark.read \\\n",
    "                .format('com.databricks.spark.xml') \\\n",
    "                .options(rowTag='record')\\\n",
    "                .options(rowTag='abstract')\\\n",
    "                .load(input_dir)\n",
    "    return  df.select(\"sec\", \"p\")\\\n",
    "              .rdd\\\n",
    "              .map(lambda row: build_body(row['sec'], row[\"p\"]))\\\n",
    "              .zipWithIndex()\\\n",
    "              .map(lambda record: (record[1], record[0]))\\\n",
    "\n",
    "get_abstract_list(input_dir).take(5)"
   ]
  },
  {
   "cell_type": "markdown",
   "metadata": {},
   "source": [
    "### Get article's categories"
   ]
  },
  {
   "cell_type": "code",
   "execution_count": 9,
   "metadata": {
    "scrolled": true
   },
   "outputs": [
    {
     "data": {
      "text/plain": [
       "[(0, ['Article']),\n",
       " (1, ['Article']),\n",
       " (2, ['Article']),\n",
       " (3, ['Article']),\n",
       " (4, ['Article']),\n",
       " (5, ['Article']),\n",
       " (6, ['Article']),\n",
       " (7, ['Analytical Methods']),\n",
       " (8, ['Article']),\n",
       " (9, ['Article']),\n",
       " (10, ['Article']),\n",
       " (11, ['Original Article']),\n",
       " (12, ['Article']),\n",
       " (13, ['Article']),\n",
       " (14, ['Article']),\n",
       " (15, ['Article']),\n",
       " (16, ['Article']),\n",
       " (17, ['Article']),\n",
       " (18, ['Article']),\n",
       " (19, ['Article'])]"
      ]
     },
     "execution_count": 9,
     "metadata": {},
     "output_type": "execute_result"
    }
   ],
   "source": [
    "def get_article_categories(row):\n",
    "    categories = []\n",
    "    for subj_group in row['subj-group']:\n",
    "        if type(subj_group['subject']) == str:\n",
    "            categories = [subj_group['subject']]\n",
    "        elif type(subj_group['subject']) == list:\n",
    "            for cat in subj_group['subject']:\n",
    "                categories.append(cat)\n",
    "    return categories\n",
    "    \n",
    "\n",
    "def get_categories_list(input_dir):\n",
    "    df = spark.read \\\n",
    "            .format('com.databricks.spark.xml') \\\n",
    "            .options(rowTag='record')\\\n",
    "            .options(rowTag='metadata')\\\n",
    "            .options(rowTag='article')\\\n",
    "            .options(rowTag='front')\\\n",
    "            .options(rowTag='article-meta')\\\n",
    "            .load(input_dir)\n",
    "    \n",
    "    return  df.select(\"article-categories\")\\\n",
    "              .rdd\\\n",
    "              .map(lambda row: get_article_categories(row['article-categories']))\\\n",
    "              .zipWithIndex()\\\n",
    "              .map(lambda record: (record[1], record[0]))\\\n",
    "\n",
    "get_categories_list(input_dir).take(20)"
   ]
  },
  {
   "cell_type": "markdown",
   "metadata": {},
   "source": [
    "### Get article's title"
   ]
  },
  {
   "cell_type": "code",
   "execution_count": 10,
   "metadata": {},
   "outputs": [
    {
     "data": {
      "text/plain": [
       "[(0,\n",
       "  'A conserved mechanism of TOR-dependent RCK-mediated mRNA degradation regulates autophagy'),\n",
       " (1,\n",
       "  'Do currently recommended Bayley III cutoffs overestimate motor impairment in infants born <27 weeks gestation?'),\n",
       " (2,\n",
       "  'Effects of minimum legal drinking age on alcohol and marijuana use: evidence from toxicological testing data for fatally injured drivers aged 16 to 25 years'),\n",
       " (3, 'Structural analysis of '),\n",
       " (4, '<italic>Plasmodium falciparum</italic>')]"
      ]
     },
     "execution_count": 10,
     "metadata": {},
     "output_type": "execute_result"
    }
   ],
   "source": [
    "def get_titles_list(input_dir):\n",
    "    df = spark.read \\\n",
    "            .format('com.databricks.spark.xml') \\\n",
    "            .options(rowTag='record')\\\n",
    "            .options(rowTag='metadata')\\\n",
    "            .options(rowTag='article')\\\n",
    "            .options(rowTag='front')\\\n",
    "            .options(rowTag='article-meta')\\\n",
    "            .options(rowTag='title-group')\\\n",
    "            .load(input_dir)\n",
    "    \n",
    "    return  df.select(\"article-title\")\\\n",
    "              .rdd\\\n",
    "              .map(lambda row: row['article-title'])\\\n",
    "              .zipWithIndex()\\\n",
    "              .map(lambda record: (record[1], record[0]))\\\n",
    "\n",
    "get_titles_list(input_dir).take(5)"
   ]
  },
  {
   "cell_type": "markdown",
   "metadata": {},
   "source": [
    "### Get final dataframe"
   ]
  },
  {
   "cell_type": "code",
   "execution_count": 11,
   "metadata": {
    "scrolled": false
   },
   "outputs": [
    {
     "data": {
      "text/html": [
       "<div>\n",
       "<style scoped>\n",
       "    .dataframe tbody tr th:only-of-type {\n",
       "        vertical-align: middle;\n",
       "    }\n",
       "\n",
       "    .dataframe tbody tr th {\n",
       "        vertical-align: top;\n",
       "    }\n",
       "\n",
       "    .dataframe thead th {\n",
       "        text-align: right;\n",
       "    }\n",
       "</style>\n",
       "<table border=\"1\" class=\"dataframe\">\n",
       "  <thead>\n",
       "    <tr style=\"text-align: right;\">\n",
       "      <th></th>\n",
       "      <th>abstract</th>\n",
       "      <th>body</th>\n",
       "      <th>categories</th>\n",
       "      <th>title</th>\n",
       "    </tr>\n",
       "  </thead>\n",
       "  <tbody>\n",
       "    <tr>\n",
       "      <th>0</th>\n",
       "      <td>Autophagy is an essential eukaryotic pathway r...</td>\n",
       "      <td>Recent work has shown that some TOR-dependent ...</td>\n",
       "      <td>[Article]</td>\n",
       "      <td>A conserved mechanism of TOR-dependent RCK-med...</td>\n",
       "    </tr>\n",
       "    <tr>\n",
       "      <th>1</th>\n",
       "      <td>To determine whether a Bayley-III Motor Compo...</td>\n",
       "      <td>Prior to 2006, the 2nd Edition of the Bayley (...</td>\n",
       "      <td>[Article]</td>\n",
       "      <td>Do currently recommended Bayley III cutoffs ov...</td>\n",
       "    </tr>\n",
       "    <tr>\n",
       "      <th>2</th>\n",
       "      <td>Alcohol and marijuana are among the most comm...</td>\n",
       "      <td>Policies related to alcohol, as well as other ...</td>\n",
       "      <td>[Article]</td>\n",
       "      <td>Effects of minimum legal drinking age on alcoh...</td>\n",
       "    </tr>\n",
       "    <tr>\n",
       "      <th>3</th>\n",
       "      <td>Mosquito-based malaria transmission-blocking v...</td>\n",
       "      <td>Malaria exacts a deadly toll on human populati...</td>\n",
       "      <td>[Article]</td>\n",
       "      <td>Structural analysis of</td>\n",
       "    </tr>\n",
       "    <tr>\n",
       "      <th>4</th>\n",
       "      <td>Genetic crosses of phenotypically distinct str...</td>\n",
       "      <td>Genetic crosses in the human malaria parasite</td>\n",
       "      <td>[Article]</td>\n",
       "      <td>&lt;italic&gt;Plasmodium falciparum&lt;/italic&gt;</td>\n",
       "    </tr>\n",
       "    <tr>\n",
       "      <th>...</th>\n",
       "      <td>...</td>\n",
       "      <td>...</td>\n",
       "      <td>...</td>\n",
       "      <td>...</td>\n",
       "    </tr>\n",
       "    <tr>\n",
       "      <th>169</th>\n",
       "      <td>Recent studies suggest that pro-inflammatory t...</td>\n",
       "      <td>These SNP arrays or chips have been widely use...</td>\n",
       "      <td>[Research Paper]</td>\n",
       "      <td>Retinoic Acid Induced-Autophagic Flux Inhibits...</td>\n",
       "    </tr>\n",
       "    <tr>\n",
       "      <th>170</th>\n",
       "      <td></td>\n",
       "      <td>Spiders (Araneae) are among the largest animal...</td>\n",
       "      <td>[Review]</td>\n",
       "      <td>Genome Wide Sampling Sequencing for SNP Genoty...</td>\n",
       "    </tr>\n",
       "    <tr>\n",
       "      <th>171</th>\n",
       "      <td>Zinc-fingers and homeoboxes 1 (ZHX1) was impli...</td>\n",
       "      <td>Immunogenic apoptosis is characterized by secr...</td>\n",
       "      <td>[Research Paper]</td>\n",
       "      <td>The Complete Mitochondrial Genome of two</td>\n",
       "    </tr>\n",
       "    <tr>\n",
       "      <th>172</th>\n",
       "      <td></td>\n",
       "      <td>Recent technological advancements have enabled...</td>\n",
       "      <td>[Research Paper]</td>\n",
       "      <td>Photodynamic-therapy Activates Immune Response...</td>\n",
       "    </tr>\n",
       "    <tr>\n",
       "      <th>173</th>\n",
       "      <td>Matrix metalloproteinases (MMPs) play intricat...</td>\n",
       "      <td>Environmental microbial communities are an im...</td>\n",
       "      <td>[Short Communication]</td>\n",
       "      <td>ProDeGe: a computational protocol for fully au...</td>\n",
       "    </tr>\n",
       "  </tbody>\n",
       "</table>\n",
       "<p>174 rows × 4 columns</p>\n",
       "</div>"
      ],
      "text/plain": [
       "                                              abstract  \\\n",
       "0    Autophagy is an essential eukaryotic pathway r...   \n",
       "1     To determine whether a Bayley-III Motor Compo...   \n",
       "2     Alcohol and marijuana are among the most comm...   \n",
       "3    Mosquito-based malaria transmission-blocking v...   \n",
       "4    Genetic crosses of phenotypically distinct str...   \n",
       "..                                                 ...   \n",
       "169  Recent studies suggest that pro-inflammatory t...   \n",
       "170                                                      \n",
       "171  Zinc-fingers and homeoboxes 1 (ZHX1) was impli...   \n",
       "172                                                      \n",
       "173  Matrix metalloproteinases (MMPs) play intricat...   \n",
       "\n",
       "                                                  body             categories  \\\n",
       "0    Recent work has shown that some TOR-dependent ...              [Article]   \n",
       "1    Prior to 2006, the 2nd Edition of the Bayley (...              [Article]   \n",
       "2    Policies related to alcohol, as well as other ...              [Article]   \n",
       "3    Malaria exacts a deadly toll on human populati...              [Article]   \n",
       "4      Genetic crosses in the human malaria parasite                [Article]   \n",
       "..                                                 ...                    ...   \n",
       "169  These SNP arrays or chips have been widely use...       [Research Paper]   \n",
       "170  Spiders (Araneae) are among the largest animal...               [Review]   \n",
       "171  Immunogenic apoptosis is characterized by secr...       [Research Paper]   \n",
       "172  Recent technological advancements have enabled...       [Research Paper]   \n",
       "173   Environmental microbial communities are an im...  [Short Communication]   \n",
       "\n",
       "                                                 title  \n",
       "0    A conserved mechanism of TOR-dependent RCK-med...  \n",
       "1    Do currently recommended Bayley III cutoffs ov...  \n",
       "2    Effects of minimum legal drinking age on alcoh...  \n",
       "3                              Structural analysis of   \n",
       "4               <italic>Plasmodium falciparum</italic>  \n",
       "..                                                 ...  \n",
       "169  Retinoic Acid Induced-Autophagic Flux Inhibits...  \n",
       "170  Genome Wide Sampling Sequencing for SNP Genoty...  \n",
       "171          The Complete Mitochondrial Genome of two   \n",
       "172  Photodynamic-therapy Activates Immune Response...  \n",
       "173  ProDeGe: a computational protocol for fully au...  \n",
       "\n",
       "[174 rows x 4 columns]"
      ]
     },
     "execution_count": 11,
     "metadata": {},
     "output_type": "execute_result"
    }
   ],
   "source": [
    "def get_final_rdd():\n",
    "    final_rdd = get_abstract_list(input_dir)\n",
    "    final_rdd = final_rdd.join(get_bodys_list(input_dir))\n",
    "    final_rdd = final_rdd.join(get_categories_list(input_dir))\n",
    "    final_rdd = final_rdd.join(get_titles_list(input_dir))\n",
    "    return final_rdd.sortByKey()\n",
    "\n",
    "def get_final_to_pandas():\n",
    "    return get_final_rdd().map(lambda record: (record[1][0][0][0], record[1][0][0][1], record[1][0][1], record[1][1]))\\\n",
    "                          .toDF([\"abstract\", \"body\", \"categories\", \"title\"])\n",
    "\n",
    "get_final_to_pandas().toPandas()"
   ]
  }
 ],
 "metadata": {
  "kernelspec": {
   "display_name": "Python 3",
   "language": "python",
   "name": "python3"
  },
  "language_info": {
   "codemirror_mode": {
    "name": "ipython",
    "version": 3
   },
   "file_extension": ".py",
   "mimetype": "text/x-python",
   "name": "python",
   "nbconvert_exporter": "python",
   "pygments_lexer": "ipython3",
   "version": "3.8.3"
  },
  "toc": {
   "base_numbering": 1,
   "nav_menu": {},
   "number_sections": false,
   "sideBar": true,
   "skip_h1_title": false,
   "title_cell": "Data parsing",
   "title_sidebar": "Contents",
   "toc_cell": true,
   "toc_position": {
    "height": "calc(100% - 180px)",
    "left": "10px",
    "top": "150px",
    "width": "373.333px"
   },
   "toc_section_display": true,
   "toc_window_display": false
  }
 },
 "nbformat": 4,
 "nbformat_minor": 4
}
