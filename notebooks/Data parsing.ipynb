{
 "cells": [
  {
   "cell_type": "markdown",
   "metadata": {
    "toc": true
   },
   "source": [
    "<h1>Data parsing<span class=\"tocSkip\"></span></h1>\n",
    "<div class=\"toc\"><ul class=\"toc-item\"><li><span><a href=\"#Import-dependencies\" data-toc-modified-id=\"Import-dependencies-1\">Import dependencies</a></span></li><li><span><a href=\"#Load-data\" data-toc-modified-id=\"Load-data-2\">Load data</a></span></li><li><span><a href=\"#Data-exploration\" data-toc-modified-id=\"Data-exploration-3\">Data exploration</a></span><ul class=\"toc-item\"><li><span><a href=\"#Get-a-list-of-standalone-paragraphs-from-each-article's-body\" data-toc-modified-id=\"Get-a-list-of-standalone-paragraphs-from-each-article's-body-3.1\">Get a list of standalone paragraphs from each article's body</a></span></li><li><span><a href=\"#Get-a-list-of-sections-(in-each-section-are-one-or-more-paragraphs)--from-each-article's-body\" data-toc-modified-id=\"Get-a-list-of-sections-(in-each-section-are-one-or-more-paragraphs)--from-each-article's-body-3.2\">Get a list of sections (in each section are one or more paragraphs)  from each article's body</a></span></li><li><span><a href=\"#Get-article's-body\" data-toc-modified-id=\"Get-article's-body-3.3\">Get article's body</a></span></li><li><span><a href=\"#Get-article's-abstract\" data-toc-modified-id=\"Get-article's-abstract-3.4\">Get article's abstract</a></span></li><li><span><a href=\"#Get-article's-categories\" data-toc-modified-id=\"Get-article's-categories-3.5\">Get article's categories</a></span></li><li><span><a href=\"#Get-article's-title\" data-toc-modified-id=\"Get-article's-title-3.6\">Get article's title</a></span></li><li><span><a href=\"#Get-final-dataframe\" data-toc-modified-id=\"Get-final-dataframe-3.7\">Get final dataframe</a></span></li></ul></li></ul></div>"
   ]
  },
  {
   "cell_type": "markdown",
   "metadata": {},
   "source": [
    "## Import dependencies"
   ]
  },
  {
   "cell_type": "code",
   "execution_count": 5,
   "metadata": {},
   "outputs": [],
   "source": [
    "import os, shutil\n",
    "import warnings\n",
    "import random\n",
    "warnings.simplefilter(\"ignore\")\n",
    "\n",
    "from shutil import copyfile\n",
    "from distutils.dir_util import copy_tree"
   ]
  },
  {
   "cell_type": "markdown",
   "metadata": {},
   "source": [
    "## Load data"
   ]
  },
  {
   "cell_type": "code",
   "execution_count": 47,
   "metadata": {},
   "outputs": [],
   "source": [
    "input_dir = \"../datasets/2016_testing_df/\"\n",
    "\n",
    "df = sqlContext.read.format('com.databricks.spark.xml').option(\"rowTag\", \"record\")\\\n",
    "    .load(input_dir)"
   ]
  },
  {
   "cell_type": "code",
   "execution_count": 48,
   "metadata": {},
   "outputs": [
    {
     "data": {
      "text/plain": [
       "103"
      ]
     },
     "execution_count": 48,
     "metadata": {},
     "output_type": "execute_result"
    }
   ],
   "source": [
    "df.rdd.count()"
   ]
  },
  {
   "cell_type": "markdown",
   "metadata": {},
   "source": [
    "## Data exploration"
   ]
  },
  {
   "cell_type": "markdown",
   "metadata": {},
   "source": [
    "### Get a list of standalone paragraphs from each article's body"
   ]
  },
  {
   "cell_type": "markdown",
   "metadata": {},
   "source": [
    "The paragraphs can be found: in **body/p** or simply in **p** tag from the root. But the results are the same."
   ]
  },
  {
   "cell_type": "code",
   "execution_count": 49,
   "metadata": {},
   "outputs": [
    {
     "data": {
      "text/plain": [
       "[(0,\n",
       "  ['Cerebral white matter injury is a prominent brain injury and a leading cause of cerebral palsy in preterm infants [']),\n",
       " (1,\n",
       "  ['Like many developing countries, India is experiencing an epidemiologic transition, in which the burdens of infectious disease, maternal and child health problems are decreasing, while the burden of non-communicable chronic diseases, such as stroke and injury, is increasing [']),\n",
       " (2,\n",
       "  ['Betatrophin is a newly recognized liver-derived hormone that has been implicated in both glucose and lipid metabolism [']),\n",
       " (3,\n",
       "  ['In addition, an outer membrane protein, multivalent adhesion molecule (MAM) which includes MCE (from Mammalian cell entry domains) was recently described in ']),\n",
       " (4,\n",
       "  ['The timing of initiation of an RCT raises ethical as well as scientific issues. Physician-researchers are widely regarded as having a duty of care to patients in RCTs, meaning that there must be good grounds to believe that study interventions are consistent with standards of medical care [']),\n",
       " (5,\n",
       "  ['The TCC is an effective intervention to reduce plantar pressure in patients with a neuropathic foot ulcer [']),\n",
       " (6,\n",
       "  ['In China, of the 1,400,000 prevalent TB cases, the estimated MDR-TB rate was 5.7\\xa0% for new and 25.6\\xa0% for previously treated cases [']),\n",
       " (7,\n",
       "  ['Currently, few of the mutations associated with artemisinin resistance in South East Asia have been identified in Africa, and those few seen in Africa do not appear to be under selection [']),\n",
       " (8,\n",
       "  ['A plethora of purported oncogenes are mutated across different cancer types, which may impact metabolism. These include Akt [']),\n",
       " (9,\n",
       "  ['Upon antigen activation, mature B cells undergo further genetic diversification processes, namely, class switch recombination (CSR) and somatic hypermutation (SHM), in specialized secondary lymphoid structures termed germinal centers (GCs) ['])]"
      ]
     },
     "execution_count": 49,
     "metadata": {},
     "output_type": "execute_result"
    }
   ],
   "source": [
    "def parse_paragraphs_list(list_of_paragraphs):\n",
    "    list_of_paragraphs_to_ret = []\n",
    "    if list_of_paragraphs != None:\n",
    "        for paragraph in list_of_paragraphs:\n",
    "            if paragraph != None:\n",
    "                if type(paragraph) == str:\n",
    "                    list_of_paragraphs_to_ret.append(paragraph)\n",
    "                else:\n",
    "                    if paragraph._VALUE != None:\n",
    "                        list_of_paragraphs_to_ret.append(paragraph._VALUE)\n",
    "    return list_of_paragraphs_to_ret\n",
    "\n",
    "def get_paragraphs_list_from_body(input_dir):\n",
    "    df =   spark.read \\\n",
    "                .format('com.databricks.spark.xml') \\\n",
    "                .options(rowTag='record')\\\n",
    "                .options(rowTag='body')\\\n",
    "                .load(input_dir)\n",
    "    return  df.select(\"p\")\\\n",
    "              .rdd\\\n",
    "              .map(lambda row: parse_paragraphs_list(row['p']))\\\n",
    "              .zipWithIndex()\\\n",
    "              .map(lambda record: (record[1], record[0]))\\\n",
    "\n",
    "\n",
    "get_paragraphs_list_from_body(input_dir).take(10)"
   ]
  },
  {
   "cell_type": "markdown",
   "metadata": {},
   "source": [
    "### Get a list of sections (in each section are one or more paragraphs)  from each article's body"
   ]
  },
  {
   "cell_type": "markdown",
   "metadata": {},
   "source": [
    "The sections are the same as in **metadata/article/body**"
   ]
  },
  {
   "cell_type": "code",
   "execution_count": 50,
   "metadata": {
    "scrolled": false
   },
   "outputs": [
    {
     "data": {
      "text/plain": [
       "[(0,\n",
       "  [['Cytokines from monocytes and macrophages initiate inflammation by inducing chemokines released from inflammatory and endothelial cells [']]),\n",
       " (1,\n",
       "  [['Stroke causes 6 million deaths each year among 17 million affected people, with the greatest burden experienced in populations of low- and middle-income countries [']]),\n",
       " (2,\n",
       "  [['Type 2 diabetes mellitus (T2DM) is one of the most severe public health problems and affects over 170 million people worldwide [']]),\n",
       " (3,\n",
       "  [['<italic>Vibrio parahaemolyticus</italic><italic>V. parahaemolyticus</italic><italic>V. parahaemolyticus</italic><xref>1</xref><xref>1</xref><italic>V. parahaemolyticus</italic><ext-link>http://www.cdc.gov/foodnet/data/trends/trends-2013-progress.html</ext-link><ext-link>http://epi.minsal.cl/</ext-link>',\n",
       "    'Pandemic ']]),\n",
       " (4,\n",
       "  [['Randomized controlled trials (RCTs) help to provide reliable information on the safety and efficacy of healthcare interventions. To have scientific and clinical utility, an RCT of a novel intervention may be considered to have a “window of opportunity” with respect to the accumulating knowledge base. If little evidence exists at the proof-of-principle level, a large definitive RCT may be premature, and it may be unjustifiable to expose patients to a potentially ineffective (or even harmful) treatment in a subsequent trial. On the other hand, if the safety, efficacy, and effectiveness of an intervention have been rigorously established, a further RCT seems unlikely to contribute meaningfully to knowledge. Unnecessary repetition of RCTs is a more common problem than one might think. Fergusson and colleagues describe a series of 64 RCTs of aprotinin versus placebo to reduce preoperative transfusion that were conducted over a 15-year period [']]),\n",
       " (5,\n",
       "  [['Plantar neuropathic ulcers usually develop at sites of moderate to high repetitive cumulative load during normal walking [']]),\n",
       " (6,\n",
       "  [['Multidrug-resistant tuberculosis (MDR-TB) and the even much severe form, extensively drug resistant tuberculosis (XDR-TB), has emerged as a significant global health concern. Of the world’s 12 million people living with TB, an estimated 450,000 people had MDR-TB in 2013. MDR-TB is estimated to be present in 3.7 percent of newly diagnosed patients with TB and 20 percent of previously treated patients around the world. Thus, previous treatment for TB is a strong risk factor for having MDR-TB [']]),\n",
       " (7,\n",
       "  [['Artemisinin combination therapy (ACT) is the recommended first-line treatment for malaria in Asia and Africa. Artemisinin-resistant ']]),\n",
       " (8,\n",
       "  [['Observations made by Otto Warburg in 1924 have changed both our understanding of cancer as well as the methods that we use to diagnose this disease. Warburg discovered that cancer cells display a particular metabolic signature that he hypothesized was due to greater glucose consumption by cancer cells than healthy cells. At the time, he believed that the reason for cancer was this elevation of metabolism, leading to what is now known as the Warburg hypothesis, which states that the cause of cancer is inefficient cellular respiration. Warburg’s observations are now thought to be a downstream effect rather than the cause of cancer ['],\n",
       "   ['Warburg observed that cancer cells that are rapidly proliferating tend to utilize aerobic glycolysis as opposed to oxidative phosphorylation. It is commonly considered that glycolysis is the less efficient, but often faster, metabolic method, and the uncontrolled growth of cancer is often characterized by the presence of glycolytic cells. The cause for this upregulation of glycolysis has not thus far been conclusively elucidated [']]),\n",
       " (9,\n",
       "  [['The occurrence of human B cell lymphomas is much more frequent than that of T cell lymphomas [']])]"
      ]
     },
     "execution_count": 50,
     "metadata": {},
     "output_type": "execute_result"
    }
   ],
   "source": [
    "def parse_sections_list(list_of_sections):\n",
    "    if list_of_sections != None:\n",
    "        list_of_sections = [parse_paragraphs_list(section.p) for section in list_of_sections if section.p != None]\n",
    "    else:\n",
    "        list_of_sections = []\n",
    "    return list_of_sections\n",
    "\n",
    "def get_sections_list(input_dir):\n",
    "    df =   spark.read \\\n",
    "                .format('com.databricks.spark.xml') \\\n",
    "                .options(rowTag='record')\\\n",
    "                .options(rowTag='body')\\\n",
    "                .load(input_dir)\n",
    "    return  df.select(\"sec\")\\\n",
    "              .rdd\\\n",
    "              .map(lambda row: parse_sections_list(row['sec']), )\\\n",
    "              .zipWithIndex()\\\n",
    "              .map(lambda record: (record[1], record[0]))\\\n",
    "\n",
    "get_sections_list(input_dir).take(10)"
   ]
  },
  {
   "cell_type": "markdown",
   "metadata": {},
   "source": [
    "### Get article's body"
   ]
  },
  {
   "cell_type": "markdown",
   "metadata": {},
   "source": [
    "The body of the article is going to be build in the following manner:\n",
    "-  we will concatenate each standalone paragraph (1)\n",
    "-  we will concatenate each paragraph from a section\n",
    "-  we will concatenate each section (3)\n",
    "-  finally, we will concatenate the the results from (1) and (3)"
   ]
  },
  {
   "cell_type": "code",
   "execution_count": 51,
   "metadata": {},
   "outputs": [],
   "source": [
    "def build_body(row_sec, row_p):\n",
    "    concat_parsed_sections = ' '.join([' '.join(section) for section in parse_sections_list(row_sec)])\n",
    "    concat_standalone_paragraphs = ' '.join(parse_paragraphs_list(row_p))\n",
    "    print(concat_parsed_sections, concat_standalone_paragraphs)\n",
    "    return concat_standalone_paragraphs + \" \" + concat_parsed_sections"
   ]
  },
  {
   "cell_type": "code",
   "execution_count": 52,
   "metadata": {
    "scrolled": false
   },
   "outputs": [
    {
     "data": {
      "text/plain": [
       "[(0,\n",
       "  'Cerebral white matter injury is a prominent brain injury and a leading cause of cerebral palsy in preterm infants [ Cytokines from monocytes and macrophages initiate inflammation by inducing chemokines released from inflammatory and endothelial cells ['),\n",
       " (1,\n",
       "  'Like many developing countries, India is experiencing an epidemiologic transition, in which the burdens of infectious disease, maternal and child health problems are decreasing, while the burden of non-communicable chronic diseases, such as stroke and injury, is increasing [ Stroke causes 6 million deaths each year among 17 million affected people, with the greatest burden experienced in populations of low- and middle-income countries ['),\n",
       " (2,\n",
       "  'Betatrophin is a newly recognized liver-derived hormone that has been implicated in both glucose and lipid metabolism [ Type 2 diabetes mellitus (T2DM) is one of the most severe public health problems and affects over 170 million people worldwide ['),\n",
       " (3,\n",
       "  'In addition, an outer membrane protein, multivalent adhesion molecule (MAM) which includes MCE (from Mammalian cell entry domains) was recently described in  <italic>Vibrio parahaemolyticus</italic><italic>V. parahaemolyticus</italic><italic>V. parahaemolyticus</italic><xref>1</xref><xref>1</xref><italic>V. parahaemolyticus</italic><ext-link>http://www.cdc.gov/foodnet/data/trends/trends-2013-progress.html</ext-link><ext-link>http://epi.minsal.cl/</ext-link> Pandemic '),\n",
       " (4,\n",
       "  'The timing of initiation of an RCT raises ethical as well as scientific issues. Physician-researchers are widely regarded as having a duty of care to patients in RCTs, meaning that there must be good grounds to believe that study interventions are consistent with standards of medical care [ Randomized controlled trials (RCTs) help to provide reliable information on the safety and efficacy of healthcare interventions. To have scientific and clinical utility, an RCT of a novel intervention may be considered to have a “window of opportunity” with respect to the accumulating knowledge base. If little evidence exists at the proof-of-principle level, a large definitive RCT may be premature, and it may be unjustifiable to expose patients to a potentially ineffective (or even harmful) treatment in a subsequent trial. On the other hand, if the safety, efficacy, and effectiveness of an intervention have been rigorously established, a further RCT seems unlikely to contribute meaningfully to knowledge. Unnecessary repetition of RCTs is a more common problem than one might think. Fergusson and colleagues describe a series of 64 RCTs of aprotinin versus placebo to reduce preoperative transfusion that were conducted over a 15-year period [')]"
      ]
     },
     "execution_count": 52,
     "metadata": {},
     "output_type": "execute_result"
    }
   ],
   "source": [
    "def get_bodys_list(input_dir):\n",
    "    df =   spark.read \\\n",
    "                .format('com.databricks.spark.xml') \\\n",
    "                .options(rowTag='record')\\\n",
    "                .options(rowTag='body')\\\n",
    "                .load(input_dir)\n",
    "    return  df.select(\"sec\", \"p\")\\\n",
    "              .rdd\\\n",
    "              .map(lambda row: build_body(row['sec'], row[\"p\"]))\\\n",
    "              .zipWithIndex()\\\n",
    "              .map(lambda record: (record[1], record[0]))\n",
    "\n",
    "get_bodys_list(input_dir).take(5)"
   ]
  },
  {
   "cell_type": "markdown",
   "metadata": {},
   "source": [
    "### Get article's abstract\n",
    "\n",
    "The abstract of the article is going to be built the same as the body."
   ]
  },
  {
   "cell_type": "code",
   "execution_count": 53,
   "metadata": {
    "scrolled": false
   },
   "outputs": [
    {
     "data": {
      "text/plain": [
       "[(0,\n",
       "  ' In very preterm infants, white matter injury is a prominent brain injury, and hypoxic ischemia (HI) and infection are the two primary pathogenic factors of this injury. Microglia and microvascular endothelial cells closely interact; therefore, a common signaling pathway may cause neuroinflammation and blood–brain barrier (BBB) damage after injury to the immature brain. CXC chemokine ligand 5 (CXCL5) is produced in inflammatory and endothelial cells by various organs in response to insults. CXCL5 levels markedly increased in the amniotic cavity in response to intrauterine infection and preterm birth in clinical studies. The objective of this study is to determine whether CXCL5 signaling is a shared pathway of neuroinflammation and BBB injury that contributes to white matter injury in the immature brain. Postpartum day 2 (P2) rat pups received lipopolysaccharide (LPS) followed by 90-min HI. Immunohistochemical analyses were performed to determine microglial activation, neutrophil infiltration, BBB damage, and myelin basic protein and glial fibrillary acidic protein expression. Immunofluorescence experiments were performed to determine the cellular distribution of CXCL5. Pharmacological tests were performed to inhibit or enhance CXCL5 activity. On P2, predominant increases in microglial activation and BBB damage were observed 24\\xa0h after LPS-sensitized HI induction, and white matter injury (decreased myelination and increased astrogliosis) was observed on P12 compared with controls. Immunohistochemical analyses revealed increased CXCL5 expression in the white matter 6 and 24\\xa0h after insult. Immunofluorescence experiments revealed upregulated CXCL5 expression in the activated microglia and endothelial cells 24\\xa0h after insult. CXCL5 inhibition by SB225002, a selective nonpeptide inhibitor of CXCR2, significantly attenuated microglial activation and BBB damage, increased myelination, and reduced astrogliosis in the white matter after LPS-sensitized HI. In addition, CXCL5-sensitized HI or CXCL5 alone significantly induced BBB damage and white matter injury in association with different neuroinflammation mechanisms. CXCL5-sensitized HI-induced microglial activation and neutrophil infiltration, whereas CXCL5 alone predominately caused neutrophil infiltration. CXCL5 is a potential biomarker for white matter injury in preterm infants. Pharmacological blockade of CXCL5 signaling that attenuates dysregulated neuroinflammation can be used a therapeutic strategy against white matter injury in the immature brain. The online version of this article (doi:10.1186/s12974-015-0474-6) contains supplementary material, which is available to authorized users.'),\n",
       " (1,\n",
       "  ' Globally, most strokes occur in low- and middle-income countries, such as India, with many affected people having no or limited access to rehabilitation services. Western models of stroke rehabilitation are often unaffordable in many populations but evidence from systematic reviews of stroke unit care and early supported discharge rehabilitation trials suggest that some components might form the basis of affordable interventions in low-resource settings. We describe the background, history and design of the ATTEND trial, a complex intervention centred on family-led stroke rehabilitation in India. The ATTEND trial aims to test the hypothesis that a family-led caregiver-delivered home-based rehabilitation intervention, designed for the Indian context, will reduce the composite poor outcome of death or dependency at 6 months after stroke, in a multicentre, individually randomized controlled trial with blinded outcome assessment, involving 1200 patients across 14 hospital sites in India. The ATTEND trial is testing the effectiveness of a low-cost rehabilitation intervention that could be widely generalizable to other low- and middle-income countries. Clinical Trials Registry-India '),\n",
       " (2,\n",
       "  ' Betatrophin is a newly identified liver-derived hormone that is associated with glucose homeostasis and lipid metabolism. Although dysregulated lipid metabolism results in diabetic nephropathy (DN) development in patients with type 2 diabetes mellitus (T2DM), it is not understood whether betatrophin is associated with urinary albumin excretion and renal function. Based on albumin/creatinine ratio (ACR), 109 T2DM patients were divided into normoalbuminuria (ACR <30\\xa0mg/g), microalbuminuria (ACR between 30 and 300\\xa0mg/g), and macroalbuminuria (ACR > 300\\xa0mg/g). Serum betatrophin levels of 109 T2DM patients and 32 healthy subjects were determined by enzyme-linked immunosorbent assay (ELISA). Serum level of betatrophin was significantly increased in T2DM patients with normoalbuminuria, microalbuminuria, and macroalbuminuria as compared with healthy subjects ('),\n",
       " (3,\n",
       "  ' <italic>Vibrio parahaemolyticus</italic><italic>V. parahaemolyticus</italic><italic>V. parahaemolyticus</italic><italic>V. parahaemolyticus</italic><italic>Lactobacillus</italic><italic>Lactobacillus</italic><italic>V. parahaemolyticus</italic><italic>Lactobacillus</italic> We cloned the MAM-7 gene from '),\n",
       " (4,\n",
       "  ' The decision to conduct a randomized controlled trial (RCT) in a field raises ethical as well as scientific issues. From the clinical equipoise literature, future trials are justifiable if there is ”honest, professional disagreement in the community of expert practitioners as to the preferred treatment”. Empirical data are sparse about how clinicians apply the principles of equipoise to the justification of future RCTs. For example, selective decontamination of the digestive tract (SDD) is not widely used in critical care practice despite the strength of the evidence base and therefore provides a unique opportunity to learn how clinicians think about the ethics of further RCTs in critical care. In an international interview study of views of healthcare professionals about SDD, we undertook a secondary analysis of qualitative data collected using a Theoretical Domains Framework of clinical behaviour. We adopted a general descriptive approach to explore how physicians determined whether another RCT of SDD is ethical. Following a constant comparison approach, three investigators reviewed 54 purposively chosen transcripts from three international regions. We interpreted the data using thematic analysis. We grouped participants’ responses into four inter-related themes: 1) cultural norms about evidence and practice within healthcare; 2) personal views about what evidence is current or applicable; 3) the interpersonal and relational nature of professional decision making locally; and 4) an a priori commitment to future trials. The analysis also identified several unresolved tensions regarding when a future RCT should be pursued. These tensions focused on a clash between potential benefits to current individual patients and potential future harms to patients more broadly. Our study suggests that ethical decision making about future RCTs in the field of SDD does not rely strongly on appeals to evidence, even when the quality of the evidence is reasonably high. Rather, “extra-evidential” reasons, including social, professional, and relational factors, seem to influence opinions regarding the ethics of future trials. Further work is required to see if these conclusions are applicable to other clinical topics and settings. The online version of this article (doi:10.1186/s13063-015-1137-8) contains supplementary material, which is available to authorized users.')]"
      ]
     },
     "execution_count": 53,
     "metadata": {},
     "output_type": "execute_result"
    }
   ],
   "source": [
    "def get_abstract_list(input_dir):\n",
    "    df =   spark.read \\\n",
    "                .format('com.databricks.spark.xml') \\\n",
    "                .options(rowTag='record')\\\n",
    "                .options(rowTag='abstract')\\\n",
    "                .load(input_dir)\n",
    "    return  df.select(\"sec\", \"p\")\\\n",
    "              .rdd\\\n",
    "              .map(lambda row: build_body(row['sec'], row[\"p\"]))\\\n",
    "              .zipWithIndex()\\\n",
    "              .map(lambda record: (record[1], record[0]))\\\n",
    "\n",
    "get_abstract_list(input_dir).take(5)"
   ]
  },
  {
   "cell_type": "markdown",
   "metadata": {},
   "source": [
    "### Get article's categories"
   ]
  },
  {
   "cell_type": "code",
   "execution_count": 59,
   "metadata": {
    "scrolled": true
   },
   "outputs": [
    {
     "data": {
      "text/plain": [
       "[(0, ['Article']),\n",
       " (1, ['Article']),\n",
       " (2, ['Article']),\n",
       " (3, ['Article']),\n",
       " (4, ['Article']),\n",
       " (5, ['Article']),\n",
       " (6, ['Article']),\n",
       " (7, ['Analytical Methods']),\n",
       " (8, ['Article']),\n",
       " (9, ['Article']),\n",
       " (10, ['Article']),\n",
       " (11, ['Original Article']),\n",
       " (12, ['Article']),\n",
       " (13, ['Article']),\n",
       " (14, ['Article']),\n",
       " (15, ['Article']),\n",
       " (16, ['Article']),\n",
       " (17, ['Article']),\n",
       " (18, ['Article']),\n",
       " (19, ['Article'])]"
      ]
     },
     "execution_count": 59,
     "metadata": {},
     "output_type": "execute_result"
    }
   ],
   "source": [
    "def get_article_categories(row):\n",
    "    categories = []\n",
    "    for subj_group in row['subj-group']:\n",
    "        if type(subj_group['subject']) == str:\n",
    "            categories = [subj_group['subject']]\n",
    "        elif type(subj_group['subject']) == list:\n",
    "            for cat in subj_group['subject']:\n",
    "                categories.append(cat)\n",
    "    return categories\n",
    "    \n",
    "\n",
    "def get_categories_list(input_dir):\n",
    "    df = spark.read \\\n",
    "            .format('com.databricks.spark.xml') \\\n",
    "            .options(rowTag='record')\\\n",
    "            .options(rowTag='metadata')\\\n",
    "            .options(rowTag='article')\\\n",
    "            .options(rowTag='front')\\\n",
    "            .options(rowTag='article-meta')\\\n",
    "            .load(input_dir)\n",
    "    \n",
    "    return  df.select(\"article-categories\")\\\n",
    "              .rdd\\\n",
    "              .map(lambda row: get_article_categories(row['article-categories']))\\\n",
    "              .zipWithIndex()\\\n",
    "              .map(lambda record: (record[1], record[0]))\\\n",
    "\n",
    "get_categories_list(input_dir).take(20)"
   ]
  },
  {
   "cell_type": "markdown",
   "metadata": {},
   "source": [
    "### Get article's title"
   ]
  },
  {
   "cell_type": "code",
   "execution_count": 55,
   "metadata": {},
   "outputs": [
    {
     "data": {
      "text/plain": [
       "[(0,\n",
       "  'CXCL5 signaling is a shared pathway of neuroinflammation and blood–brain barrier injury contributing to white matter injury in the immature brain'),\n",
       " (1,\n",
       "  'Family-led rehabilitation after stroke in India: the ATTEND trial, study protocol for a randomized controlled trial'),\n",
       " (2,\n",
       "  'Higher serum betatrophin level in type 2 diabetes subjects is associated with urinary albumin excretion and renal function'),\n",
       " (3, 'The expression of heterologous MAM-7 in '),\n",
       " (4,\n",
       "  'The ethics of future trials: qualitative analysis of physicians’ decision making')]"
      ]
     },
     "execution_count": 55,
     "metadata": {},
     "output_type": "execute_result"
    }
   ],
   "source": [
    "def get_titles_list(input_dir):\n",
    "    df = spark.read \\\n",
    "            .format('com.databricks.spark.xml') \\\n",
    "            .options(rowTag='record')\\\n",
    "            .options(rowTag='metadata')\\\n",
    "            .options(rowTag='article')\\\n",
    "            .options(rowTag='front')\\\n",
    "            .options(rowTag='article-meta')\\\n",
    "            .options(rowTag='title-group')\\\n",
    "            .load(input_dir)\n",
    "    \n",
    "    return  df.select(\"article-title\")\\\n",
    "              .rdd\\\n",
    "              .map(lambda row: row['article-title'])\\\n",
    "              .zipWithIndex()\\\n",
    "              .map(lambda record: (record[1], record[0]))\\\n",
    "\n",
    "get_titles_list(input_dir).take(5)"
   ]
  },
  {
   "cell_type": "markdown",
   "metadata": {},
   "source": [
    "### Get final dataframe"
   ]
  },
  {
   "cell_type": "code",
   "execution_count": 56,
   "metadata": {
    "scrolled": false
   },
   "outputs": [
    {
     "data": {
      "text/html": [
       "<div>\n",
       "<style scoped>\n",
       "    .dataframe tbody tr th:only-of-type {\n",
       "        vertical-align: middle;\n",
       "    }\n",
       "\n",
       "    .dataframe tbody tr th {\n",
       "        vertical-align: top;\n",
       "    }\n",
       "\n",
       "    .dataframe thead th {\n",
       "        text-align: right;\n",
       "    }\n",
       "</style>\n",
       "<table border=\"1\" class=\"dataframe\">\n",
       "  <thead>\n",
       "    <tr style=\"text-align: right;\">\n",
       "      <th></th>\n",
       "      <th>abstract</th>\n",
       "      <th>body</th>\n",
       "      <th>categories</th>\n",
       "      <th>title</th>\n",
       "    </tr>\n",
       "  </thead>\n",
       "  <tbody>\n",
       "    <tr>\n",
       "      <th>0</th>\n",
       "      <td>In very preterm infants, white matter injury ...</td>\n",
       "      <td>Cerebral white matter injury is a prominent br...</td>\n",
       "      <td>[Research]</td>\n",
       "      <td>CXCL5 signaling is a shared pathway of neuroin...</td>\n",
       "    </tr>\n",
       "    <tr>\n",
       "      <th>1</th>\n",
       "      <td>Globally, most strokes occur in low- and midd...</td>\n",
       "      <td>Like many developing countries, India is exper...</td>\n",
       "      <td>[Study Protocol]</td>\n",
       "      <td>Family-led rehabilitation after stroke in Indi...</td>\n",
       "    </tr>\n",
       "    <tr>\n",
       "      <th>2</th>\n",
       "      <td>Betatrophin is a newly identified liver-deriv...</td>\n",
       "      <td>Betatrophin is a newly recognized liver-derive...</td>\n",
       "      <td>[Original Investigation]</td>\n",
       "      <td>Higher serum betatrophin level in type 2 diabe...</td>\n",
       "    </tr>\n",
       "    <tr>\n",
       "      <th>3</th>\n",
       "      <td>&lt;italic&gt;Vibrio parahaemolyticus&lt;/italic&gt;&lt;ital...</td>\n",
       "      <td>In addition, an outer membrane protein, multiv...</td>\n",
       "      <td>[Research Article]</td>\n",
       "      <td>The expression of heterologous MAM-7 in</td>\n",
       "    </tr>\n",
       "    <tr>\n",
       "      <th>4</th>\n",
       "      <td>The decision to conduct a randomized controll...</td>\n",
       "      <td>The timing of initiation of an RCT raises ethi...</td>\n",
       "      <td>[Research]</td>\n",
       "      <td>The ethics of future trials: qualitative analy...</td>\n",
       "    </tr>\n",
       "    <tr>\n",
       "      <th>...</th>\n",
       "      <td>...</td>\n",
       "      <td>...</td>\n",
       "      <td>...</td>\n",
       "      <td>...</td>\n",
       "    </tr>\n",
       "    <tr>\n",
       "      <th>98</th>\n",
       "      <td>Malaria in pregnancy contributes greatly to m...</td>\n",
       "      <td>Interventions to prevent malaria through the p...</td>\n",
       "      <td>[Research]</td>\n",
       "      <td>Perceptions and practices for preventing malar...</td>\n",
       "    </tr>\n",
       "    <tr>\n",
       "      <th>99</th>\n",
       "      <td>Improving the quality of care of at the medic...</td>\n",
       "      <td>Many conditions are managed exclusively at the...</td>\n",
       "      <td>[Research Article]</td>\n",
       "      <td>The relationship between GPs and hospital cons...</td>\n",
       "    </tr>\n",
       "    <tr>\n",
       "      <th>100</th>\n",
       "      <td>Adipose-derived stem cells (ASCs) are being i...</td>\n",
       "      <td>It has been demonstrated that the regenerative...</td>\n",
       "      <td>[Research]</td>\n",
       "      <td>Mass spectrometry analysis of adipose-derived ...</td>\n",
       "    </tr>\n",
       "    <tr>\n",
       "      <th>101</th>\n",
       "      <td>Most adolescents begin alcohol consumption du...</td>\n",
       "      <td>In most Western industrialised countries there...</td>\n",
       "      <td>[Research Article]</td>\n",
       "      <td>Parental supply of alcohol to Australian minor...</td>\n",
       "    </tr>\n",
       "    <tr>\n",
       "      <th>102</th>\n",
       "      <td>We aimed to establish the frequency and chara...</td>\n",
       "      <td>An Australian study of 313 adult bicyclists re...</td>\n",
       "      <td>[Research Article]</td>\n",
       "      <td>Describing and comparing the characteristics o...</td>\n",
       "    </tr>\n",
       "  </tbody>\n",
       "</table>\n",
       "<p>103 rows × 4 columns</p>\n",
       "</div>"
      ],
      "text/plain": [
       "                                              abstract  \\\n",
       "0     In very preterm infants, white matter injury ...   \n",
       "1     Globally, most strokes occur in low- and midd...   \n",
       "2     Betatrophin is a newly identified liver-deriv...   \n",
       "3     <italic>Vibrio parahaemolyticus</italic><ital...   \n",
       "4     The decision to conduct a randomized controll...   \n",
       "..                                                 ...   \n",
       "98    Malaria in pregnancy contributes greatly to m...   \n",
       "99    Improving the quality of care of at the medic...   \n",
       "100   Adipose-derived stem cells (ASCs) are being i...   \n",
       "101   Most adolescents begin alcohol consumption du...   \n",
       "102   We aimed to establish the frequency and chara...   \n",
       "\n",
       "                                                  body  \\\n",
       "0    Cerebral white matter injury is a prominent br...   \n",
       "1    Like many developing countries, India is exper...   \n",
       "2    Betatrophin is a newly recognized liver-derive...   \n",
       "3    In addition, an outer membrane protein, multiv...   \n",
       "4    The timing of initiation of an RCT raises ethi...   \n",
       "..                                                 ...   \n",
       "98   Interventions to prevent malaria through the p...   \n",
       "99   Many conditions are managed exclusively at the...   \n",
       "100  It has been demonstrated that the regenerative...   \n",
       "101  In most Western industrialised countries there...   \n",
       "102  An Australian study of 313 adult bicyclists re...   \n",
       "\n",
       "                   categories  \\\n",
       "0                  [Research]   \n",
       "1            [Study Protocol]   \n",
       "2    [Original Investigation]   \n",
       "3          [Research Article]   \n",
       "4                  [Research]   \n",
       "..                        ...   \n",
       "98                 [Research]   \n",
       "99         [Research Article]   \n",
       "100                [Research]   \n",
       "101        [Research Article]   \n",
       "102        [Research Article]   \n",
       "\n",
       "                                                 title  \n",
       "0    CXCL5 signaling is a shared pathway of neuroin...  \n",
       "1    Family-led rehabilitation after stroke in Indi...  \n",
       "2    Higher serum betatrophin level in type 2 diabe...  \n",
       "3             The expression of heterologous MAM-7 in   \n",
       "4    The ethics of future trials: qualitative analy...  \n",
       "..                                                 ...  \n",
       "98   Perceptions and practices for preventing malar...  \n",
       "99   The relationship between GPs and hospital cons...  \n",
       "100  Mass spectrometry analysis of adipose-derived ...  \n",
       "101  Parental supply of alcohol to Australian minor...  \n",
       "102  Describing and comparing the characteristics o...  \n",
       "\n",
       "[103 rows x 4 columns]"
      ]
     },
     "execution_count": 56,
     "metadata": {},
     "output_type": "execute_result"
    }
   ],
   "source": [
    "def get_final_rdd():\n",
    "    final_rdd = get_abstract_list(input_dir)\n",
    "    final_rdd = final_rdd.join(get_bodys_list(input_dir))\n",
    "    final_rdd = final_rdd.join(get_categories_list(input_dir))\n",
    "    final_rdd = final_rdd.join(get_titles_list(input_dir))\n",
    "    return final_rdd.sortByKey()\n",
    "\n",
    "def get_final_to_pandas():\n",
    "    return get_final_rdd().map(lambda record: (record[1][0][0][0], record[1][0][0][1], record[1][0][1], record[1][1]))\\\n",
    "                          .toDF([\"abstract\", \"body\", \"categories\", \"title\"])\n",
    "\n",
    "get_final_to_pandas().toPandas()"
   ]
  }
 ],
 "metadata": {
  "kernelspec": {
   "display_name": "Python 3",
   "language": "python",
   "name": "python3"
  },
  "language_info": {
   "codemirror_mode": {
    "name": "ipython",
    "version": 3
   },
   "file_extension": ".py",
   "mimetype": "text/x-python",
   "name": "python",
   "nbconvert_exporter": "python",
   "pygments_lexer": "ipython3",
   "version": "3.8.3"
  },
  "toc": {
   "base_numbering": 1,
   "nav_menu": {},
   "number_sections": false,
   "sideBar": true,
   "skip_h1_title": false,
   "title_cell": "Data parsing",
   "title_sidebar": "Contents",
   "toc_cell": true,
   "toc_position": {
    "height": "calc(100% - 180px)",
    "left": "10px",
    "top": "150px",
    "width": "373.333px"
   },
   "toc_section_display": true,
   "toc_window_display": false
  }
 },
 "nbformat": 4,
 "nbformat_minor": 4
}
