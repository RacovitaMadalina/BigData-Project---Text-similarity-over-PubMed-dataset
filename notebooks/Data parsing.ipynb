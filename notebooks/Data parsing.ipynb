{
 "cells": [
  {
   "cell_type": "markdown",
   "metadata": {
    "toc": true
   },
   "source": [
    "<h1>Data parsing<span class=\"tocSkip\"></span></h1>\n",
    "<div class=\"toc\"><ul class=\"toc-item\"><li><span><a href=\"#Import-dependencies\" data-toc-modified-id=\"Import-dependencies-1\">Import dependencies</a></span></li><li><span><a href=\"#Load-data\" data-toc-modified-id=\"Load-data-2\">Load data</a></span></li><li><span><a href=\"#Data-exploration\" data-toc-modified-id=\"Data-exploration-3\">Data exploration</a></span><ul class=\"toc-item\"><li><span><a href=\"#Get-a-list-of-standalone-paragraphs-from-each-article's-body\" data-toc-modified-id=\"Get-a-list-of-standalone-paragraphs-from-each-article's-body-3.1\">Get a list of standalone paragraphs from each article's body</a></span></li><li><span><a href=\"#Get-a-list-of-sections-(in-each-section-are-one-or-more-paragraphs)--from-each-article's-body\" data-toc-modified-id=\"Get-a-list-of-sections-(in-each-section-are-one-or-more-paragraphs)--from-each-article's-body-3.2\">Get a list of sections (in each section are one or more paragraphs)  from each article's body</a></span></li><li><span><a href=\"#Get-article's-body\" data-toc-modified-id=\"Get-article's-body-3.3\">Get article's body</a></span></li><li><span><a href=\"#Get-article's-abstract\" data-toc-modified-id=\"Get-article's-abstract-3.4\">Get article's abstract</a></span></li><li><span><a href=\"#Get-article's-categories\" data-toc-modified-id=\"Get-article's-categories-3.5\">Get article's categories</a></span></li><li><span><a href=\"#Get-article's-title\" data-toc-modified-id=\"Get-article's-title-3.6\">Get article's title</a></span></li><li><span><a href=\"#Get-final-dataframe\" data-toc-modified-id=\"Get-final-dataframe-3.7\">Get final dataframe</a></span></li></ul></li></ul></div>"
   ]
  },
  {
   "cell_type": "markdown",
   "metadata": {},
   "source": [
    "## Import dependencies"
   ]
  },
  {
   "cell_type": "code",
   "execution_count": 5,
   "metadata": {},
   "outputs": [],
   "source": [
    "import os, shutil\n",
    "import warnings\n",
    "import random\n",
    "warnings.simplefilter(\"ignore\")\n",
    "\n",
    "from shutil import copyfile\n",
    "from distutils.dir_util import copy_tree"
   ]
  },
  {
   "cell_type": "markdown",
   "metadata": {},
   "source": [
    "## Load data"
   ]
  },
  {
   "cell_type": "code",
   "execution_count": 6,
   "metadata": {},
   "outputs": [],
   "source": [
    "input_dir = \"../datasets/2016_testing_df/\"\n",
    "\n",
    "df = sqlContext.read.format('com.databricks.spark.xml').option(\"rowTag\", \"record\")\\\n",
    "    .load(input_dir)"
   ]
  },
  {
   "cell_type": "code",
   "execution_count": 7,
   "metadata": {},
   "outputs": [
    {
     "data": {
      "text/plain": [
       "103"
      ]
     },
     "execution_count": 7,
     "metadata": {},
     "output_type": "execute_result"
    }
   ],
   "source": [
    "df.rdd.count()"
   ]
  },
  {
   "cell_type": "markdown",
   "metadata": {},
   "source": [
    "## Data exploration"
   ]
  },
  {
   "cell_type": "markdown",
   "metadata": {},
   "source": [
    "### Get a list of standalone paragraphs from each article's body"
   ]
  },
  {
   "cell_type": "markdown",
   "metadata": {},
   "source": [
    "The paragraphs can be found: in **body/p** or simply in **p** tag from the root. But the results are the same."
   ]
  },
  {
   "cell_type": "code",
   "execution_count": 36,
   "metadata": {},
   "outputs": [
    {
     "data": {
      "text/plain": [
       "[(0,\n",
       "  ['There are few studies regarding stenosis at the level of the atlas, with little data existing to define a critical threshold for stenosis.']),\n",
       " (1, []),\n",
       " (2, []),\n",
       " (3, []),\n",
       " (4,\n",
       "  ['Several cohort studies have assessed longitudinal WMH progression over approximately 2–6 years (']),\n",
       " (5, []),\n",
       " (6,\n",
       "  ['One of the rarest complications involves the formation of a mass surrounding the SCS electrode, resulting in spinal cord compression. A search of the published literature showed that only seven documented cases have been reported.']),\n",
       " (7,\n",
       "  ['This bibliometric study aims to present a success story of the journal based on journal metric analysis and comparison to 3 other orthopedic journals from Asia that are indexed in Web of Science Core Collection, which will also show how far-sighted the leaders of the KOA who decided to publish an English journal were. At the same time, I hope this article will be helpful to local journals in paving the way for international circulation.',\n",
       "   'The H-index was defined as the number of papers with a citation number higher or equal to ']),\n",
       " (8,\n",
       "  ['Percutaneous iliosacral screw fixation can provide appropriate biomechanical stability while minimizing further soft tissue injury for fixation of unstable posterior pelvic ring injuries including sacroiliac joint dislocations, sacral fractures, and some sacroiliac joint fracture dislocations.']),\n",
       " (9,\n",
       "  ['The population of patients over 90 years of age (nonagenarians) has experienced the fastest growth in recent years. Americans 95 years and over alone experienced an increase in over 25%, from 337,000 to 425,000 between 2000 and 2010.'])]"
      ]
     },
     "execution_count": 36,
     "metadata": {},
     "output_type": "execute_result"
    }
   ],
   "source": [
    "def parse_paragraphs_list(list_of_paragraphs):\n",
    "    list_of_paragraphs_to_ret = []\n",
    "    if list_of_paragraphs != None:\n",
    "        for paragraph in list_of_paragraphs:\n",
    "            if paragraph != None:\n",
    "                if type(paragraph) == str:\n",
    "                    list_of_paragraphs_to_ret.append(paragraph)\n",
    "                else:\n",
    "                    if paragraph._VALUE != None:\n",
    "                        list_of_paragraphs_to_ret.append(paragraph._VALUE)\n",
    "    return list_of_paragraphs_to_ret\n",
    "\n",
    "def get_paragraphs_list_from_body(input_dir):\n",
    "    df =   spark.read \\\n",
    "                .format('com.databricks.spark.xml') \\\n",
    "                .options(rowTag='record')\\\n",
    "                .options(rowTag='body')\\\n",
    "                .load(input_dir)\n",
    "    return  df.select(\"p\")\\\n",
    "              .rdd\\\n",
    "              .map(lambda row: parse_paragraphs_list(row['p']))\\\n",
    "              .zipWithIndex()\\\n",
    "              .map(lambda record: (record[1], record[0]))\\\n",
    "\n",
    "\n",
    "get_paragraphs_list_from_body(input_dir).take(10)"
   ]
  },
  {
   "cell_type": "markdown",
   "metadata": {},
   "source": [
    "### Get a list of sections (in each section are one or more paragraphs)  from each article's body"
   ]
  },
  {
   "cell_type": "markdown",
   "metadata": {},
   "source": [
    "The sections are the same as in **metadata/article/body**"
   ]
  },
  {
   "cell_type": "code",
   "execution_count": 37,
   "metadata": {
    "scrolled": false
   },
   "outputs": [
    {
     "data": {
      "text/plain": [
       "[(0,\n",
       "  [['The sagittal diameter of the cervical spinal canal is important, as a small canal diameter is associated with cervical myelopathy and with a high risk of spinal cord injury after trauma.']]),\n",
       " (1,\n",
       "  [['Pathological gambling (PG) is a psychiatric disorder characterized by a pre-occupation with thoughts of gambling, repeated attempts to reduce or quit, debt and/or illegal activity, and disruption of personal relationships and/or employment. PG has been estimated to affect between 0.2 and 5.3% of the adult population worldwide (']]),\n",
       " (2,\n",
       "  [['The sex-steroid hormone estradiol (E2) enhances the psychoactive effects of cocaine, as evidenced by clinical and preclinical studies (']]),\n",
       " (3, [['ADCC in HIV-1 has been studied for over 20\\xa0years (']]),\n",
       " (4,\n",
       "  [['Brain white matter hyperintensities (WMH) are common in community-dwelling older people and are associated with cognitive decline, dementia, stroke, and death (']]),\n",
       " (5,\n",
       "  [['Spontaneous cerebrospinal fluid (CSF) fistula of the skull base is an uncommon condition associated with multiple etiologies and can have a variable presentation. Of note, obese, middle-aged, and multiparous women most commonly develop this condition.']]),\n",
       " (6,\n",
       "  [['Since it was first used in 1967, spinal cord stimulation (SCS) has become a commonly used procedure for the management of intractable pain arising from such conditions as failed back surgery syndrome, complex regional pain syndrome, refractory angina, phantom limb pain, postthoracotomy pain syndrome, and reflex sympathetic dystrophy. As with any implanted device, complications would be anticipated. Some of the more common complications include electrode migration, hardware malfunction, cerebrospinal fluid (CSF) leakage, infection, and hematoma. Nerve root/spinal cord injury, allergic reactions, and skin erosions have also been reported but are less frequently encountered.']]),\n",
       " (7,\n",
       "  [[\"The present study is a cross-sectional observation study. Following metrics were analyzed from the journal's homepage (\"]]),\n",
       " (8,\n",
       "  [['For the incidence of sacral dysplasia, the upper sacral segment morphology was classified as normal, transitional, and dysplastic according to the radiological characteristics, as defined by Routt et al.']]),\n",
       " (9,\n",
       "  [['A retrospective chart review was performed to determine outcomes of nonagenarian patients (over 90 years of age) who underwent operative hip fracture repair between January 1st, 2009 and August 21, 2013 at a level 1 trauma center. Institutional Review Board approval was obtained before chart review began. Patients who were treated conservatively, underwent a girdlestone procedure, or resided in a different state than the institution were excluded. This led to a total of 39 patients with a mean age of 93.3 ± 2.3 years being included in this study (34 females, 5 males) ('],\n",
       "   ['All analyses were performed using the IBM SPSS ver. 21.0 (IBM Co., Armonk, NY, USA). Survival was analyzed by the Cox proportional hazards regression model. The chi-square test was used for the analysis of nominal variables. Nonparametric continuous variables were tested by the Mann-Whitney ']])]"
      ]
     },
     "execution_count": 37,
     "metadata": {},
     "output_type": "execute_result"
    }
   ],
   "source": [
    "def parse_sections_list(list_of_sections):\n",
    "    if list_of_sections != None:\n",
    "        list_of_sections = [parse_paragraphs_list(section.p) for section in list_of_sections if section.p != None]\n",
    "    else:\n",
    "        list_of_sections = []\n",
    "    return list_of_sections\n",
    "\n",
    "def get_sections_list(input_dir):\n",
    "    df =   spark.read \\\n",
    "                .format('com.databricks.spark.xml') \\\n",
    "                .options(rowTag='record')\\\n",
    "                .options(rowTag='body')\\\n",
    "                .load(input_dir)\n",
    "    return  df.select(\"sec\")\\\n",
    "              .rdd\\\n",
    "              .map(lambda row: parse_sections_list(row['sec']), )\\\n",
    "              .zipWithIndex()\\\n",
    "              .map(lambda record: (record[1], record[0]))\\\n",
    "\n",
    "get_sections_list(input_dir).take(10)"
   ]
  },
  {
   "cell_type": "markdown",
   "metadata": {},
   "source": [
    "### Get article's body"
   ]
  },
  {
   "cell_type": "markdown",
   "metadata": {},
   "source": [
    "The body of the article is going to be build in the following manner:\n",
    "-  we will concatenate each standalone paragraph (1)\n",
    "-  we will concatenate each paragraph from a section\n",
    "-  we will concatenate each section (3)\n",
    "-  finally, we will concatenate the the results from (1) and (3)"
   ]
  },
  {
   "cell_type": "code",
   "execution_count": 38,
   "metadata": {},
   "outputs": [],
   "source": [
    "def build_body(row_sec, row_p):\n",
    "    concat_parsed_sections = ' '.join([' '.join(section) for section in parse_sections_list(row_sec)])\n",
    "    concat_standalone_paragraphs = ' '.join(parse_paragraphs_list(row_p))\n",
    "    print(concat_parsed_sections, concat_standalone_paragraphs)\n",
    "    return concat_standalone_paragraphs + \" \" + concat_parsed_sections"
   ]
  },
  {
   "cell_type": "code",
   "execution_count": 39,
   "metadata": {
    "scrolled": false
   },
   "outputs": [
    {
     "data": {
      "text/plain": [
       "[(0,\n",
       "  'There are few studies regarding stenosis at the level of the atlas, with little data existing to define a critical threshold for stenosis. The sagittal diameter of the cervical spinal canal is important, as a small canal diameter is associated with cervical myelopathy and with a high risk of spinal cord injury after trauma.'),\n",
       " (1,\n",
       "  ' Pathological gambling (PG) is a psychiatric disorder characterized by a pre-occupation with thoughts of gambling, repeated attempts to reduce or quit, debt and/or illegal activity, and disruption of personal relationships and/or employment. PG has been estimated to affect between 0.2 and 5.3% of the adult population worldwide ('),\n",
       " (2,\n",
       "  ' The sex-steroid hormone estradiol (E2) enhances the psychoactive effects of cocaine, as evidenced by clinical and preclinical studies ('),\n",
       " (3, ' ADCC in HIV-1 has been studied for over 20\\xa0years ('),\n",
       " (4,\n",
       "  'Several cohort studies have assessed longitudinal WMH progression over approximately 2–6 years ( Brain white matter hyperintensities (WMH) are common in community-dwelling older people and are associated with cognitive decline, dementia, stroke, and death (')]"
      ]
     },
     "execution_count": 39,
     "metadata": {},
     "output_type": "execute_result"
    }
   ],
   "source": [
    "def get_bodys_list(input_dir):\n",
    "    df =   spark.read \\\n",
    "                .format('com.databricks.spark.xml') \\\n",
    "                .options(rowTag='record')\\\n",
    "                .options(rowTag='body')\\\n",
    "                .load(input_dir)\n",
    "    return  df.select(\"sec\", \"p\")\\\n",
    "              .rdd\\\n",
    "              .map(lambda row: build_body(row['sec'], row[\"p\"]))\\\n",
    "              .zipWithIndex()\\\n",
    "              .map(lambda record: (record[1], record[0]))\n",
    "\n",
    "get_bodys_list(input_dir).take(5)"
   ]
  },
  {
   "cell_type": "markdown",
   "metadata": {},
   "source": [
    "### Get article's abstract\n",
    "\n",
    "The abstract of the article is going to be built the same as the body."
   ]
  },
  {
   "cell_type": "code",
   "execution_count": 40,
   "metadata": {
    "scrolled": false
   },
   "outputs": [
    {
     "data": {
      "text/plain": [
       "[(0, ' '),\n",
       " (1,\n",
       "  'Pathological gambling is a psychiatric disorder and the first recognized behavioral addiction, with similarities to substance use disorders but without the confounding effects of drug-related brain changes. Pathophysiology within the opioid receptor system is increasingly recognized in substance dependence, with higher mu-opioid receptor (MOR) availability reported in alcohol, cocaine and opiate addiction. Impulsivity, a risk factor across the addictions, has also been found to be associated with higher MOR availability. The aim of this study was to characterize baseline MOR availability and endogenous opioid release in pathological gamblers (PG) using [ '),\n",
       " (2,\n",
       "  'The sex-steroid hormone estradiol (E2) enhances the psychoactive effects of cocaine, as evidenced by clinical and preclinical studies. The medial preoptic area (mPOA), a region in the hypothalamus, is a primary neural locus for neuroendocrine integration, containing one of the richest concentrations of estrogen receptors in the CNS and also has a key role in the regulation of naturally rewarding behaviors. However, whether estradiol enhances the neurochemical response to cocaine by acting in the mPOA is still unclear. Using neurotoxic lesions and microdialysis, we examined whether the mPOA modulates cocaine-induced neurochemical activity in the nucleus accumbens. Tract tracing and immunohistochemical staining were used to determine whether projections from the mPOA to the ventral tegmental area (VTA) are sensitive to estrogen signaling. Finally, estradiol microinjections followed by microdialysis were used to determine whether estrogenic signaling in the mPOA modulates cocaine-induced changes of dopamine in the nucleus accumbens. Results showed that lesions of the mPOA or microinjections of estradiol directly into the mPOA increased cocaine-induced release of dopamine in the nucleus accumbens. Immunohistochemical analyses revealed that the mPOA modulates cocaine responsiveness via projections to both dopaminergic and GABAergic neurons in the VTA, and that these projections are sensitive to estrogenic stimulation. Taken together, these findings point to a novel estradiol-dependent pathway that modulates cocaine-induced neurochemical activity in the mesolimbic system. '),\n",
       " (3,\n",
       "  'Several lines of evidence indicate that antibody-dependent cellular cytotoxicity ( '),\n",
       " (4,\n",
       "  'We aimed to determine associations between multiple vascular risk factors (VRF) at ∼73\\xa0years and progression of white matter hyperintensities (WMH) from ∼73\\xa0years to ∼76\\xa0years. We calculated correlations and generalized estimating equation models of a comprehensive range of VRF at 73\\xa0years and change in WMH volume from 73\\xa0years to 76\\xa0years. Higher systolic (rho\\xa0= 0.126,  ')]"
      ]
     },
     "execution_count": 40,
     "metadata": {},
     "output_type": "execute_result"
    }
   ],
   "source": [
    "def get_abstract_list(input_dir):\n",
    "    df =   spark.read \\\n",
    "                .format('com.databricks.spark.xml') \\\n",
    "                .options(rowTag='record')\\\n",
    "                .options(rowTag='abstract')\\\n",
    "                .load(input_dir)\n",
    "    return  df.select(\"sec\", \"p\")\\\n",
    "              .rdd\\\n",
    "              .map(lambda row: build_body(row['sec'], row[\"p\"]))\\\n",
    "              .zipWithIndex()\\\n",
    "              .map(lambda record: (record[1], record[0]))\\\n",
    "\n",
    "get_abstract_list(input_dir).take(5)"
   ]
  },
  {
   "cell_type": "markdown",
   "metadata": {},
   "source": [
    "### Get article's categories"
   ]
  },
  {
   "cell_type": "code",
   "execution_count": 41,
   "metadata": {
    "scrolled": true
   },
   "outputs": [
    {
     "data": {
      "text/plain": [
       "[(0, ['Article']),\n",
       " (1, ['Original Article']),\n",
       " (2, ['Original Article']),\n",
       " (3, ['Research Paper']),\n",
       " (4, ['Regular Article'])]"
      ]
     },
     "execution_count": 41,
     "metadata": {},
     "output_type": "execute_result"
    }
   ],
   "source": [
    "def get_article_categories(row):\n",
    "    categories = []\n",
    "    for subj_group in row['subj-group']:\n",
    "        for cat in subj_group['subject']:\n",
    "            categories.append(cat)\n",
    "    return categories\n",
    "    \n",
    "\n",
    "def get_categories_list(input_dir):\n",
    "    df = spark.read \\\n",
    "            .format('com.databricks.spark.xml') \\\n",
    "            .options(rowTag='record')\\\n",
    "            .options(rowTag='metadata')\\\n",
    "            .options(rowTag='article')\\\n",
    "            .options(rowTag='front')\\\n",
    "            .options(rowTag='article-meta')\\\n",
    "            .load(input_dir)\n",
    "    \n",
    "    return  df.select(\"article-categories\")\\\n",
    "              .rdd\\\n",
    "              .map(lambda row: get_article_categories(row['article-categories']))\\\n",
    "              .zipWithIndex()\\\n",
    "              .map(lambda record: (record[1], record[0]))\\\n",
    "\n",
    "get_categories_list(input_dir).take(5)"
   ]
  },
  {
   "cell_type": "markdown",
   "metadata": {},
   "source": [
    "### Get article's title"
   ]
  },
  {
   "cell_type": "code",
   "execution_count": 42,
   "metadata": {},
   "outputs": [
    {
     "data": {
      "text/plain": [
       "[(0, 'Spinolaminar Line Test as a Screening Tool for C1 Stenosis'),\n",
       " (1,\n",
       "  'Blunted Endogenous Opioid Release Following an Oral Amphetamine Challenge in Pathological Gamblers'),\n",
       " (2,\n",
       "  'Estradiol in the Preoptic Area Regulates the Dopaminergic Response to Cocaine in the Nucleus Accumbens'),\n",
       " (3,\n",
       "  'A new cell line for high throughput HIV-specific antibody-dependent cellular cytotoxicity (ADCC) and cell-to-cell virus transmission studies'),\n",
       " (4,\n",
       "  'Vascular risk factors and progression of white matter hyperintensities in the Lothian Birth Cohort 1936')]"
      ]
     },
     "execution_count": 42,
     "metadata": {},
     "output_type": "execute_result"
    }
   ],
   "source": [
    "def get_titles_list(input_dir):\n",
    "    df = spark.read \\\n",
    "            .format('com.databricks.spark.xml') \\\n",
    "            .options(rowTag='record')\\\n",
    "            .options(rowTag='metadata')\\\n",
    "            .options(rowTag='article')\\\n",
    "            .options(rowTag='front')\\\n",
    "            .options(rowTag='article-meta')\\\n",
    "            .options(rowTag='title-group')\\\n",
    "            .load(input_dir)\n",
    "    \n",
    "    return  df.select(\"article-title\")\\\n",
    "              .rdd\\\n",
    "              .map(lambda row: row['article-title'])\\\n",
    "              .zipWithIndex()\\\n",
    "              .map(lambda record: (record[1], record[0]))\\\n",
    "\n",
    "get_titles_list(input_dir).take(5)"
   ]
  },
  {
   "cell_type": "markdown",
   "metadata": {},
   "source": [
    "### Get final dataframe"
   ]
  },
  {
   "cell_type": "code",
   "execution_count": 43,
   "metadata": {
    "scrolled": false
   },
   "outputs": [
    {
     "data": {
      "text/html": [
       "<div>\n",
       "<style scoped>\n",
       "    .dataframe tbody tr th:only-of-type {\n",
       "        vertical-align: middle;\n",
       "    }\n",
       "\n",
       "    .dataframe tbody tr th {\n",
       "        vertical-align: top;\n",
       "    }\n",
       "\n",
       "    .dataframe thead th {\n",
       "        text-align: right;\n",
       "    }\n",
       "</style>\n",
       "<table border=\"1\" class=\"dataframe\">\n",
       "  <thead>\n",
       "    <tr style=\"text-align: right;\">\n",
       "      <th></th>\n",
       "      <th>abstract</th>\n",
       "      <th>body</th>\n",
       "      <th>categories</th>\n",
       "      <th>title</th>\n",
       "    </tr>\n",
       "  </thead>\n",
       "  <tbody>\n",
       "    <tr>\n",
       "      <th>0</th>\n",
       "      <td></td>\n",
       "      <td>There are few studies regarding stenosis at th...</td>\n",
       "      <td>[Article]</td>\n",
       "      <td>Spinolaminar Line Test as a Screening Tool for...</td>\n",
       "    </tr>\n",
       "    <tr>\n",
       "      <th>1</th>\n",
       "      <td>Pathological gambling is a psychiatric disorde...</td>\n",
       "      <td>Pathological gambling (PG) is a psychiatric d...</td>\n",
       "      <td>[Original Article]</td>\n",
       "      <td>Blunted Endogenous Opioid Release Following an...</td>\n",
       "    </tr>\n",
       "    <tr>\n",
       "      <th>2</th>\n",
       "      <td>The sex-steroid hormone estradiol (E2) enhance...</td>\n",
       "      <td>The sex-steroid hormone estradiol (E2) enhanc...</td>\n",
       "      <td>[Original Article]</td>\n",
       "      <td>Estradiol in the Preoptic Area Regulates the D...</td>\n",
       "    </tr>\n",
       "    <tr>\n",
       "      <th>3</th>\n",
       "      <td>Several lines of evidence indicate that antibo...</td>\n",
       "      <td>ADCC in HIV-1 has been studied for over 20 ye...</td>\n",
       "      <td>[Research Paper]</td>\n",
       "      <td>A new cell line for high throughput HIV-specif...</td>\n",
       "    </tr>\n",
       "    <tr>\n",
       "      <th>4</th>\n",
       "      <td>We aimed to determine associations between mul...</td>\n",
       "      <td>Several cohort studies have assessed longitudi...</td>\n",
       "      <td>[Regular Article]</td>\n",
       "      <td>Vascular risk factors and progression of white...</td>\n",
       "    </tr>\n",
       "    <tr>\n",
       "      <th>...</th>\n",
       "      <td>...</td>\n",
       "      <td>...</td>\n",
       "      <td>...</td>\n",
       "      <td>...</td>\n",
       "    </tr>\n",
       "    <tr>\n",
       "      <th>98</th>\n",
       "      <td>Kraft’s work focuses on the mechanisms that re...</td>\n",
       "      <td>Tau protein can transfer between neurons trans...</td>\n",
       "      <td>[Article]</td>\n",
       "      <td>Neuronal activity enhances tau propagation and...</td>\n",
       "    </tr>\n",
       "    <tr>\n",
       "      <th>99</th>\n",
       "      <td>Many signaling proteins permanently or transie...</td>\n",
       "      <td>The hippocampus is critical to memory for even...</td>\n",
       "      <td>[Article]</td>\n",
       "      <td>Bidirectional prefrontal-hippocampal interacti...</td>\n",
       "    </tr>\n",
       "    <tr>\n",
       "      <th>100</th>\n",
       "      <td>Tumours exist in a hypoxic microenvironment an...</td>\n",
       "      <td>The brain depends almost exclusively on glucos...</td>\n",
       "      <td>[Article]</td>\n",
       "      <td>Glucose responsive neurons of the paraventricu...</td>\n",
       "    </tr>\n",
       "    <tr>\n",
       "      <th>101</th>\n",
       "      <td>Genetic heterogeneity contributes to clinical ...</td>\n",
       "      <td>Mutations in the breast cancer susceptibility ...</td>\n",
       "      <td>[Article]</td>\n",
       "      <td>FANCD2 limits replication stress and genome in...</td>\n",
       "    </tr>\n",
       "    <tr>\n",
       "      <th>102</th>\n",
       "      <td>Mammalian sirtuin 6 (SIRT6) exhibits many pivo...</td>\n",
       "      <td>Flaviviruses have a single-stranded, positive-...</td>\n",
       "      <td>[Article]</td>\n",
       "      <td>Flavivirus NS1 protein in infected host sera e...</td>\n",
       "    </tr>\n",
       "  </tbody>\n",
       "</table>\n",
       "<p>103 rows × 4 columns</p>\n",
       "</div>"
      ],
      "text/plain": [
       "                                              abstract  \\\n",
       "0                                                        \n",
       "1    Pathological gambling is a psychiatric disorde...   \n",
       "2    The sex-steroid hormone estradiol (E2) enhance...   \n",
       "3    Several lines of evidence indicate that antibo...   \n",
       "4    We aimed to determine associations between mul...   \n",
       "..                                                 ...   \n",
       "98   Kraft’s work focuses on the mechanisms that re...   \n",
       "99   Many signaling proteins permanently or transie...   \n",
       "100  Tumours exist in a hypoxic microenvironment an...   \n",
       "101  Genetic heterogeneity contributes to clinical ...   \n",
       "102  Mammalian sirtuin 6 (SIRT6) exhibits many pivo...   \n",
       "\n",
       "                                                  body          categories  \\\n",
       "0    There are few studies regarding stenosis at th...           [Article]   \n",
       "1     Pathological gambling (PG) is a psychiatric d...  [Original Article]   \n",
       "2     The sex-steroid hormone estradiol (E2) enhanc...  [Original Article]   \n",
       "3     ADCC in HIV-1 has been studied for over 20 ye...    [Research Paper]   \n",
       "4    Several cohort studies have assessed longitudi...   [Regular Article]   \n",
       "..                                                 ...                 ...   \n",
       "98   Tau protein can transfer between neurons trans...           [Article]   \n",
       "99   The hippocampus is critical to memory for even...           [Article]   \n",
       "100  The brain depends almost exclusively on glucos...           [Article]   \n",
       "101  Mutations in the breast cancer susceptibility ...           [Article]   \n",
       "102  Flaviviruses have a single-stranded, positive-...           [Article]   \n",
       "\n",
       "                                                 title  \n",
       "0    Spinolaminar Line Test as a Screening Tool for...  \n",
       "1    Blunted Endogenous Opioid Release Following an...  \n",
       "2    Estradiol in the Preoptic Area Regulates the D...  \n",
       "3    A new cell line for high throughput HIV-specif...  \n",
       "4    Vascular risk factors and progression of white...  \n",
       "..                                                 ...  \n",
       "98   Neuronal activity enhances tau propagation and...  \n",
       "99   Bidirectional prefrontal-hippocampal interacti...  \n",
       "100  Glucose responsive neurons of the paraventricu...  \n",
       "101  FANCD2 limits replication stress and genome in...  \n",
       "102  Flavivirus NS1 protein in infected host sera e...  \n",
       "\n",
       "[103 rows x 4 columns]"
      ]
     },
     "execution_count": 43,
     "metadata": {},
     "output_type": "execute_result"
    }
   ],
   "source": [
    "def get_final_rdd():\n",
    "    final_rdd = get_abstract_list(input_dir)\n",
    "    final_rdd = final_rdd.join(get_bodys_list(input_dir))\n",
    "    final_rdd = final_rdd.join(get_categories_list(input_dir))\n",
    "    final_rdd = final_rdd.join(get_titles_list(input_dir))\n",
    "    return final_rdd.sortByKey()\n",
    "\n",
    "def get_final_to_pandas():\n",
    "    return get_final_rdd().map(lambda record: (record[1][0][0][0], record[1][0][0][1], record[1][0][1], record[1][1]))\\\n",
    "                          .toDF([\"abstract\", \"body\", \"categories\", \"title\"])\n",
    "\n",
    "get_final_to_pandas().toPandas()"
   ]
  },
  {
   "cell_type": "code",
   "execution_count": 44,
   "metadata": {},
   "outputs": [
    {
     "data": {
      "text/plain": [
       "[(0,\n",
       "  ('ABRÉGÉ',\n",
       "   'There are few studies regarding stenosis at the level of the atlas, with little data existing to define a critical threshold for stenosis. The sagittal diameter of the cervical spinal canal is important, as a small canal diameter is associated with cervical myelopathy and with a high risk of spinal cord injury after trauma.')),\n",
       " (1,\n",
       "  (None,\n",
       "   ' Pathological gambling (PG) is a psychiatric disorder characterized by a pre-occupation with thoughts of gambling, repeated attempts to reduce or quit, debt and/or illegal activity, and disruption of personal relationships and/or employment. PG has been estimated to affect between 0.2 and 5.3% of the adult population worldwide ('))]"
      ]
     },
     "execution_count": 44,
     "metadata": {},
     "output_type": "execute_result"
    }
   ],
   "source": [
    "def get_abstract_list(input_dir):\n",
    "    df =   spark.read \\\n",
    "                .format('com.databricks.spark.xml') \\\n",
    "                .options(rowTag='record')\\\n",
    "                .options(rowTag='trans-abstract')\\\n",
    "                .load(input_dir)\n",
    "    return  df.select(\"title\")\\\n",
    "              .rdd\\\n",
    "              .map(lambda row: row['title'])\\\n",
    "              .zipWithIndex()\\\n",
    "              .map(lambda record: (record[1], record[0]))\\\n",
    "\n",
    "get_abstract_list(input_dir).join(get_bodys_list(input_dir)).take(3)"
   ]
  }
 ],
 "metadata": {
  "kernelspec": {
   "display_name": "Python 3",
   "language": "python",
   "name": "python3"
  },
  "language_info": {
   "codemirror_mode": {
    "name": "ipython",
    "version": 3
   },
   "file_extension": ".py",
   "mimetype": "text/x-python",
   "name": "python",
   "nbconvert_exporter": "python",
   "pygments_lexer": "ipython3",
   "version": "3.8.3"
  },
  "toc": {
   "base_numbering": 1,
   "nav_menu": {},
   "number_sections": false,
   "sideBar": true,
   "skip_h1_title": false,
   "title_cell": "Data parsing",
   "title_sidebar": "Contents",
   "toc_cell": true,
   "toc_position": {
    "height": "calc(100% - 180px)",
    "left": "10px",
    "top": "150px",
    "width": "373.333px"
   },
   "toc_section_display": true,
   "toc_window_display": false
  }
 },
 "nbformat": 4,
 "nbformat_minor": 4
}
