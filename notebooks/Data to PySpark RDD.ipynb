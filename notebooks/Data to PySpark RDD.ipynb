{
 "cells": [
  {
   "cell_type": "markdown",
   "metadata": {
    "toc": true
   },
   "source": [
    "<h1>Data to PySpark RDD<span class=\"tocSkip\"></span></h1>\n",
    "<div class=\"toc\"><ul class=\"toc-item\"><li><span><a href=\"#Import-dependencies\" data-toc-modified-id=\"Import-dependencies-1\">Import dependencies</a></span></li><li><span><a href=\"#Load-data-to-a-Pyspark-RDD\" data-toc-modified-id=\"Load-data-to-a-Pyspark-RDD-2\">Load data to a Pyspark RDD</a></span><ul class=\"toc-item\"><li><span><a href=\"#Read-data-from-a-single-day-1st-of-January-2016\" data-toc-modified-id=\"Read-data-from-a-single-day-1st-of-January-2016-2.1\">Read data from a single day 1st of January 2016</a></span></li><li><span><a href=\"#Gather-data-for-the-entire-year-into-a-single-rdd\" data-toc-modified-id=\"Gather-data-for-the-entire-year-into-a-single-rdd-2.2\">Gather data for the entire year into a single rdd</a></span></li></ul></li></ul></div>"
   ]
  },
  {
   "cell_type": "markdown",
   "metadata": {},
   "source": [
    "## Import dependencies"
   ]
  },
  {
   "cell_type": "code",
   "execution_count": 1,
   "metadata": {},
   "outputs": [],
   "source": [
    "import os\n",
    "import warnings\n",
    "warnings.simplefilter(\"ignore\")"
   ]
  },
  {
   "cell_type": "markdown",
   "metadata": {},
   "source": [
    "## Load data to a Pyspark RDD"
   ]
  },
  {
   "cell_type": "markdown",
   "metadata": {},
   "source": [
    "### Read data from a single day 1st of January 2016"
   ]
  },
  {
   "cell_type": "code",
   "execution_count": 2,
   "metadata": {
    "scrolled": false
   },
   "outputs": [],
   "source": [
    "file_path = \"../datasets/PubMed - medium samples/2016/2016-01-01_2016-01-02/\"\n",
    "\n",
    "df = sqlContext.read.format('com.databricks.spark.xml').option(\"rowTag\", \"record\")\\\n",
    "    .load(file_path)"
   ]
  },
  {
   "cell_type": "code",
   "execution_count": 3,
   "metadata": {},
   "outputs": [
    {
     "data": {
      "text/plain": [
       "[Column<b'_corrupt_record'>,\n",
       " Column<b'abstract'>,\n",
       " Column<b'back'>,\n",
       " Column<b'body'>,\n",
       " Column<b'bold'>,\n",
       " Column<b'boxed-text'>,\n",
       " Column<b'counts'>,\n",
       " Column<b'custom-meta-group'>,\n",
       " Column<b'disp-formula'>,\n",
       " Column<b'ext-link'>,\n",
       " Column<b'fig'>,\n",
       " Column<b'funding-group'>,\n",
       " Column<b'graphic'>,\n",
       " Column<b'header'>,\n",
       " Column<b'inline-formula'>,\n",
       " Column<b'italic'>,\n",
       " Column<b'kwd'>,\n",
       " Column<b'kwd-group'>,\n",
       " Column<b'list'>,\n",
       " Column<b'list-item'>,\n",
       " Column<b'metadata'>,\n",
       " Column<b'notes'>,\n",
       " Column<b'p'>,\n",
       " Column<b'sec'>,\n",
       " Column<b'self-uri'>,\n",
       " Column<b'sub'>,\n",
       " Column<b'sup'>,\n",
       " Column<b'table-wrap'>,\n",
       " Column<b'table-wrap-foot'>,\n",
       " Column<b'tbody'>,\n",
       " Column<b'td'>,\n",
       " Column<b'tr'>,\n",
       " Column<b'trans-abstract'>,\n",
       " Column<b'xref'>]"
      ]
     },
     "execution_count": 3,
     "metadata": {},
     "output_type": "execute_result"
    }
   ],
   "source": [
    "list(df)"
   ]
  },
  {
   "cell_type": "code",
   "execution_count": 4,
   "metadata": {
    "scrolled": false
   },
   "outputs": [
    {
     "data": {
      "text/plain": [
       "457"
      ]
     },
     "execution_count": 4,
     "metadata": {},
     "output_type": "execute_result"
    }
   ],
   "source": [
    "df.count()"
   ]
  },
  {
   "cell_type": "code",
   "execution_count": 5,
   "metadata": {},
   "outputs": [
    {
     "data": {
      "text/plain": [
       "DataFrame[summary: string, _corrupt_record: string, bold: string]"
      ]
     },
     "execution_count": 5,
     "metadata": {},
     "output_type": "execute_result"
    }
   ],
   "source": [
    "df.describe()"
   ]
  },
  {
   "cell_type": "code",
   "execution_count": 6,
   "metadata": {
    "scrolled": true
   },
   "outputs": [
    {
     "name": "stdout",
     "output_type": "stream",
     "text": [
      "+--------------+----+----+--------+----+--------------+------+-------------+----+--------------------+--------------+----+----+-----+---------+\n",
      "|_abstract-type| _id|bold|ext-link| fig|inline-formula|italic|named-content|   p|                 sec|styled-content| sub| sup|title|underline|\n",
      "+--------------+----+----+--------+----+--------------+------+-------------+----+--------------------+--------------+----+----+-----+---------+\n",
      "|          null|null|null|    null|null|          null|  null|         null|null|[[S1,,,, [[Neurof...|          null|null|null| null|     null|\n",
      "+--------------+----+----+--------+----+--------------+------+-------------+----+--------------------+--------------+----+----+-----+---------+\n",
      "only showing top 1 row\n",
      "\n"
     ]
    }
   ],
   "source": [
    "df = sqlContext.read.format('com.databricks.spark.xml').option(\"rowTag\", \"abstract\")\\\n",
    "    .load(file_path)\n",
    "df.show(1)"
   ]
  },
  {
   "cell_type": "markdown",
   "metadata": {},
   "source": [
    "### Gather data for the entire year into a single rdd"
   ]
  },
  {
   "cell_type": "code",
   "execution_count": 9,
   "metadata": {},
   "outputs": [
    {
     "name": "stdout",
     "output_type": "stream",
     "text": [
      "2016-01-01_2016-01-02 -- 457 read articles.\n",
      "\t  all_data_df -- 457 records.\n",
      "2016-01-02_2016-01-03 -- 0 read articles.\n",
      "\t  all_data_df -- 457 records.\n",
      "2016-01-03_2016-01-04 -- 0 read articles.\n",
      "\t  all_data_df -- 457 records.\n",
      "2016-01-04_2016-01-05 -- 7 read articles.\n",
      "\t  all_data_df -- 464 records.\n",
      "2016-01-05_2016-01-06 -- 95 read articles.\n",
      "\t  all_data_df -- 559 records.\n",
      "2016-01-06_2016-01-07 -- 201 read articles.\n",
      "\t  all_data_df -- 760 records.\n",
      "2016-01-07_2016-01-08 -- 132 read articles.\n",
      "\t  all_data_df -- 892 records.\n",
      "2016-01-08_2016-01-09 -- 98 read articles.\n",
      "\t  all_data_df -- 990 records.\n",
      "2016-01-09_2016-01-10 -- 0 read articles.\n",
      "\t  all_data_df -- 990 records.\n",
      "2016-01-10_2016-01-11 -- 0 read articles.\n",
      "\t  all_data_df -- 990 records.\n"
     ]
    }
   ],
   "source": [
    "root = \"../datasets/PubMed - medium samples/2016/\"\n",
    "\n",
    "all_data_df = None\n",
    "schema = None\n",
    "\n",
    "count_days = 1\n",
    "for filename in sorted(os.listdir(root)):\n",
    "    filename_abs = root + filename\n",
    "    \n",
    "    if schema != None:\n",
    "        df_current = sqlContext.read.format('com.databricks.spark.xml')\\\n",
    "                               .option(\"rowTag\", \"record\")\\\n",
    "                               .load(filename_abs,schema=schema)\n",
    "    else:\n",
    "        df_current = sqlContext.read.format('com.databricks.spark.xml')\\\n",
    "                               .option(\"rowTag\", \"record\")\\\n",
    "                               .load(filename_abs)\n",
    "    if all_data_df == None:\n",
    "        all_data_df = df_current\n",
    "        schema = df_current.schema\n",
    "    else:\n",
    "        all_data_df = all_data_df.union(df_current)\n",
    "    \n",
    "    print(filename.split('.')[0] + \" -- \" + str(df_current.count()) + \" read articles.\")\n",
    "    print(\"\\t  all_data_df -- \" + str(all_data_df.count()) + \" records.\")\n",
    "        \n",
    "    if count_days % 10 == 0:\n",
    "#         all_data_df.write\\\n",
    "#                 .format(\"com.databricks.spark.xml\")\\\n",
    "#                 .option(\"rootTag\", \"record\")\\\n",
    "#                 .save(\"../datasets/data.xml\")\n",
    "        break\n",
    "    \n",
    "    count_days += 1"
   ]
  },
  {
   "cell_type": "code",
   "execution_count": 10,
   "metadata": {},
   "outputs": [
    {
     "data": {
      "text/html": [
       "<div>\n",
       "<style scoped>\n",
       "    .dataframe tbody tr th:only-of-type {\n",
       "        vertical-align: middle;\n",
       "    }\n",
       "\n",
       "    .dataframe tbody tr th {\n",
       "        vertical-align: top;\n",
       "    }\n",
       "\n",
       "    .dataframe thead th {\n",
       "        text-align: right;\n",
       "    }\n",
       "</style>\n",
       "<table border=\"1\" class=\"dataframe\">\n",
       "  <thead>\n",
       "    <tr style=\"text-align: right;\">\n",
       "      <th></th>\n",
       "      <th>body</th>\n",
       "      <th>metadata</th>\n",
       "      <th>td</th>\n",
       "      <th>tr</th>\n",
       "      <th>page-count</th>\n",
       "      <th>title</th>\n",
       "    </tr>\n",
       "  </thead>\n",
       "  <tbody>\n",
       "    <tr>\n",
       "      <th>0</th>\n",
       "      <td>&lt;sec&gt;\\n      &lt;title&gt;Introduction&lt;/title&gt;&lt;p&gt;Neu...</td>\n",
       "      <td>&lt;article&gt;\\n  &lt;front&gt;\\n    &lt;journal-meta&gt;\\n    ...</td>\n",
       "      <td>None</td>\n",
       "      <td>NaN</td>\n",
       "      <td>None</td>\n",
       "      <td>None</td>\n",
       "    </tr>\n",
       "    <tr>\n",
       "      <th>1</th>\n",
       "      <td>None</td>\n",
       "      <td>&lt;article&gt;\\n  &lt;front&gt;\\n    &lt;journal-meta&gt;\\n    ...</td>\n",
       "      <td>Petty et al</td>\n",
       "      <td>NaN</td>\n",
       "      <td>None</td>\n",
       "      <td>None</td>\n",
       "    </tr>\n",
       "    <tr>\n",
       "      <th>2</th>\n",
       "      <td>None</td>\n",
       "      <td>&lt;article&gt;\\n  &lt;front&gt;\\n    &lt;journal-meta&gt;\\n    ...</td>\n",
       "      <td>None</td>\n",
       "      <td>NaN</td>\n",
       "      <td>None</td>\n",
       "      <td>None</td>\n",
       "    </tr>\n",
       "    <tr>\n",
       "      <th>3</th>\n",
       "      <td>None</td>\n",
       "      <td>&lt;article&gt;\\n  &lt;front&gt;\\n    &lt;journal-meta&gt;\\n    ...</td>\n",
       "      <td>None</td>\n",
       "      <td>NaN</td>\n",
       "      <td>None</td>\n",
       "      <td>None</td>\n",
       "    </tr>\n",
       "    <tr>\n",
       "      <th>4</th>\n",
       "      <td>None</td>\n",
       "      <td>&lt;article&gt;\\n  &lt;front&gt;\\n    &lt;journal-meta&gt;\\n    ...</td>\n",
       "      <td>None</td>\n",
       "      <td>NaN</td>\n",
       "      <td>None</td>\n",
       "      <td>None</td>\n",
       "    </tr>\n",
       "  </tbody>\n",
       "</table>\n",
       "</div>"
      ],
      "text/plain": [
       "                                                body  \\\n",
       "0  <sec>\\n      <title>Introduction</title><p>Neu...   \n",
       "1                                               None   \n",
       "2                                               None   \n",
       "3                                               None   \n",
       "4                                               None   \n",
       "\n",
       "                                            metadata           td  tr  \\\n",
       "0  <article>\\n  <front>\\n    <journal-meta>\\n    ...         None NaN   \n",
       "1  <article>\\n  <front>\\n    <journal-meta>\\n    ...  Petty et al NaN   \n",
       "2  <article>\\n  <front>\\n    <journal-meta>\\n    ...         None NaN   \n",
       "3  <article>\\n  <front>\\n    <journal-meta>\\n    ...         None NaN   \n",
       "4  <article>\\n  <front>\\n    <journal-meta>\\n    ...         None NaN   \n",
       "\n",
       "  page-count title  \n",
       "0       None  None  \n",
       "1       None  None  \n",
       "2       None  None  \n",
       "3       None  None  \n",
       "4       None  None  "
      ]
     },
     "execution_count": 10,
     "metadata": {},
     "output_type": "execute_result"
    }
   ],
   "source": [
    "from pyspark.sql.types import *\n",
    "\n",
    "customSchema = StructType([\n",
    "    StructField(\"body\", StringType(), True),\n",
    "    StructField(\"metadata\", StringType(), True),\n",
    "    StructField(\"td\", StringType(), True),\n",
    "    StructField(\"tr\", DoubleType(), True),\n",
    "    StructField(\"page-count\", StringType(), True),\n",
    "    StructField(\"title\", StringType(), True)])\n",
    "\n",
    "df = spark.read \\\n",
    "    .format('com.databricks.spark.xml') \\\n",
    "    .options(rowTag='record') \\\n",
    "    .load(file_path, schema = customSchema)\n",
    "\n",
    "df.toPandas().head()"
   ]
  },
  {
   "cell_type": "code",
   "execution_count": 11,
   "metadata": {},
   "outputs": [
    {
     "name": "stdout",
     "output_type": "stream",
     "text": [
      "+--------------------+--------------------+-----------+----+----------+-----+\n",
      "|                body|            metadata|         td|  tr|page-count|title|\n",
      "+--------------------+--------------------+-----------+----+----------+-----+\n",
      "|<sec>\n",
      "      <titl...|<article>\n",
      "  <fron...|       null|null|      null| null|\n",
      "|                null|<article>\n",
      "  <fron...|Petty et al|null|      null| null|\n",
      "|                null|<article>\n",
      "  <fron...|       null|null|      null| null|\n",
      "|                null|<article>\n",
      "  <fron...|       null|null|      null| null|\n",
      "|                null|<article>\n",
      "  <fron...|       null|null|      null| null|\n",
      "+--------------------+--------------------+-----------+----+----------+-----+\n",
      "only showing top 5 rows\n",
      "\n"
     ]
    }
   ],
   "source": [
    "df.show(5)"
   ]
  }
 ],
 "metadata": {
  "kernelspec": {
   "display_name": "Python 3",
   "language": "python",
   "name": "python3"
  },
  "language_info": {
   "codemirror_mode": {
    "name": "ipython",
    "version": 3
   },
   "file_extension": ".py",
   "mimetype": "text/x-python",
   "name": "python",
   "nbconvert_exporter": "python",
   "pygments_lexer": "ipython3",
   "version": "3.8.3"
  },
  "toc": {
   "base_numbering": 1,
   "nav_menu": {},
   "number_sections": false,
   "sideBar": true,
   "skip_h1_title": true,
   "title_cell": "Data to PySpark RDD",
   "title_sidebar": "Contents",
   "toc_cell": true,
   "toc_position": {},
   "toc_section_display": true,
   "toc_window_display": false
  }
 },
 "nbformat": 4,
 "nbformat_minor": 4
}
