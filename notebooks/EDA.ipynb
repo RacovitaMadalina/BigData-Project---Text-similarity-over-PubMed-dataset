{
 "cells": [
  {
   "cell_type": "code",
   "execution_count": 1,
   "metadata": {},
   "outputs": [],
   "source": [
    "import findspark\n",
    "findspark.init()\n",
    "import pyspark\n",
    "from pyspark.sql.types import IntegerType\n",
    "from pyspark.sql import SparkSession, SQLContext\n",
    "from pyspark import SparkConf, SparkContext\n",
    "\n",
    "conf = SparkConf().setMaster(\"local\").setAppName(\"My App\")\n",
    "sc = SparkContext(conf = conf)\n",
    "sqlContext = SQLContext(sc)\n",
    "\n",
    "import pandas as pd\n",
    "import numpy as np\n",
    "import matplotlib.pyplot as plt\n",
    "import math\n",
    "import os\n",
    "import warnings\n",
    "warnings.simplefilter(\"ignore\")"
   ]
  },
  {
   "cell_type": "code",
   "execution_count": 2,
   "metadata": {},
   "outputs": [],
   "source": [
    "def load_xml(xml_path):\n",
    "    return sqlContext.read.format('com.databricks.spark.xml').option(\"rowTag\", \"record\").load(xml_path)\n",
    "    \n",
    "def load_xml_files_from(root):\n",
    "    files = [os.path.join(root, f) for f in os.listdir(root) if '.xml.gz' in f]\n",
    "    return [load_xml(file).toPandas() for file in files]\n",
    "\n",
    "data = load_xml_files_from(\"../datasets/2016_testing_df/\")\n",
    "df = pd.concat(data).reset_index(drop=True)"
   ]
  },
  {
   "cell_type": "code",
   "execution_count": 3,
   "metadata": {},
   "outputs": [
    {
     "data": {
      "text/plain": [
       "Index(['body', 'header', 'italic', 'metadata', 'p', 'sec', 'sub', 'sup',\n",
       "       'xref', 'list', 'disp-formula', 'fig', 'graphic', 'table-wrap', 'tbody',\n",
       "       'tr', 'bold', 'trans-abstract', 'abstract', 'back', 'counts',\n",
       "       'custom-meta-group', 'funding-group', 'kwd-group', 'notes', 'self-uri',\n",
       "       'td'],\n",
       "      dtype='object')"
      ]
     },
     "execution_count": 3,
     "metadata": {},
     "output_type": "execute_result"
    }
   ],
   "source": [
    "df.columns"
   ]
  },
  {
   "cell_type": "code",
   "execution_count": 11,
   "metadata": {},
   "outputs": [
    {
     "data": {
      "text/plain": [
       "0.7655172413793103"
      ]
     },
     "execution_count": 11,
     "metadata": {},
     "output_type": "execute_result"
    }
   ],
   "source": [
    "df.body.isna().sum() / df.shape[0]"
   ]
  },
  {
   "cell_type": "markdown",
   "metadata": {},
   "source": [
    "Despite being called \"body\", the entries have very few words."
   ]
  },
  {
   "cell_type": "code",
   "execution_count": 22,
   "metadata": {},
   "outputs": [
    {
     "data": {
      "image/png": "[encoded data removed]",
      "text/plain": [
       "<Figure size 432x288 with 1 Axes>"
      ]
     },
     "metadata": {
      "needs_background": "light"
     },
     "output_type": "display_data"
    }
   ],
   "source": [
    "df_body = df[~df.body.isna()].body.copy()\n",
    "_ = df_body.apply(len).hist()"
   ]
  },
  {
   "cell_type": "code",
   "execution_count": 26,
   "metadata": {},
   "outputs": [
    {
     "data": {
      "text/plain": [
       "Row(italic=['in vivo'], p=Row(_VALUE='Heart failure and cardiovascular disease remain the leading cause of mortality and morbidity in the human population. Genetic mutations and altered expression of many genes encoding contractile proteins in the heart have been associated with cardiac malfunction and cardiovascular diseases', _id='P3'), sec=None, sub=None, sup=[Row(xref=[Row(_VALUE=1, _ref-type='bibr', _rid='R1'), Row(_VALUE=9, _ref-type='bibr', _rid='R9')]), Row(xref=[Row(_VALUE=10, _ref-type='bibr', _rid='R10'), Row(_VALUE=12, _ref-type='bibr', _rid='R12')]), Row(xref=[Row(_VALUE=13, _ref-type='bibr', _rid='R13'), Row(_VALUE=25, _ref-type='bibr', _rid='R25')]), Row(xref=[Row(_VALUE=26, _ref-type='bibr', _rid='R26'), Row(_VALUE=27, _ref-type='bibr', _rid='R27')]), Row(xref=[Row(_VALUE=28, _ref-type='bibr', _rid='R28'), Row(_VALUE=32, _ref-type='bibr', _rid='R32')])], xref=None)"
      ]
     },
     "execution_count": 26,
     "metadata": {},
     "output_type": "execute_result"
    }
   ],
   "source": [
    "df_body[3]"
   ]
  }
 ],
 "metadata": {
  "kernelspec": {
   "display_name": "Python 3",
   "language": "python",
   "name": "python3"
  },
  "language_info": {
   "codemirror_mode": {
    "name": "ipython",
    "version": 3
   },
   "file_extension": ".py",
   "mimetype": "text/x-python",
   "name": "python",
   "nbconvert_exporter": "python",
   "pygments_lexer": "ipython3",
   "version": "3.8.3"
  },
  "toc": {
   "base_numbering": 1,
   "nav_menu": {},
   "number_sections": true,
   "sideBar": true,
   "skip_h1_title": false,
   "title_cell": "Table of Contents",
   "title_sidebar": "Contents",
   "toc_cell": false,
   "toc_position": {},
   "toc_section_display": true,
   "toc_window_display": false
  }
 },
 "nbformat": 4,
 "nbformat_minor": 4
}